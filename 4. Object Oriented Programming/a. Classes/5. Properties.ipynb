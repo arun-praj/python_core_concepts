{
 "cells": [
  {
   "cell_type": "markdown",
   "metadata": {},
   "source": [
    "# Properites in python\n",
    "\n",
    "Properties are little bit different than attribute in python. In language such as Java and C++, we donot directly access the attributes. There is access modifier keywords in such programming language such as `Private, Public and Protected`.\n",
    "\n",
    "In python we dont have such private attributes. Everything is public. Now, there is a convention in python that if an attribute starts with underscore '_' then they should not be accessed directly. But they are just a convention."
   ]
  },
  {
   "cell_type": "code",
   "execution_count": 2,
   "metadata": {},
   "outputs": [
    {
     "data": {
      "text/plain": [
       "'John'"
      ]
     },
     "execution_count": 2,
     "metadata": {},
     "output_type": "execute_result"
    }
   ],
   "source": [
    "class Person:\n",
    "    _name = \"John\" # pseudo private attribute\n",
    "    \n",
    "    def get_name(self):\n",
    "        return self._name\n",
    "    \n",
    "    def set_name(self, name):\n",
    "        self._name = name\n",
    "    \n",
    "p = Person()\n",
    "p._name # not recommended\n",
    "p.get_name() # recommended"
   ]
  },
  {
   "cell_type": "markdown",
   "metadata": {},
   "source": [
    "The solution of this is by using `property` class\n",
    "\n",
    "```python\n",
    "property(fget,fset,fdel)\n",
    "```"
   ]
  },
  {
   "cell_type": "code",
   "execution_count": 15,
   "metadata": {},
   "outputs": [
    {
     "name": "stdout",
     "output_type": "stream",
     "text": [
      "Setter Called ...\n",
      "Getter called ...\n",
      "doe\n",
      "{'_name': 'doe'}\n"
     ]
    }
   ],
   "source": [
    "class Person:\n",
    "    def __init__(self, name):\n",
    "        self._name = name\n",
    "\n",
    "    def get_name(self):\n",
    "        print('Getter called ...')\n",
    "        return self._name\n",
    "    \n",
    "    def set_name(self, name):\n",
    "        if isinstance(name, str)  :\n",
    "            print(\"Setter Called ...\")\n",
    "            self._name = name.strip()   \n",
    "    def del_name(self):\n",
    "        print(\"Deleter Called ...\")\n",
    "        del self._name  \n",
    "\n",
    "    name = property(fget=get_name, fset=set_name, fdel=del_name,doc=\"Set and get the name property\") \n",
    "\n",
    "p = Person(\"John\")\n",
    "p.name = \"doe \" # setter\n",
    "print(p.name) # getter\n",
    "print(p.__dict__)"
   ]
  },
  {
   "cell_type": "markdown",
   "metadata": {},
   "source": [
    "## Property using Decorator"
   ]
  },
  {
   "cell_type": "code",
   "execution_count": null,
   "metadata": {},
   "outputs": [],
   "source": [
    "class Person:\n",
    "    def __init__(self, name):\n",
    "        self._name = name\n",
    "    \n",
    "    def name(self): #getter\n",
    "        return self._name\n",
    "    \n",
    "    name = property(name) # same as decorator. Takes a function and returns a function"
   ]
  },
  {
   "cell_type": "markdown",
   "metadata": {},
   "source": [
    "is same as"
   ]
  },
  {
   "cell_type": "code",
   "execution_count": null,
   "metadata": {},
   "outputs": [],
   "source": [
    "class Person:\n",
    "    def __init__(self, name):\n",
    "        self._name = name\n",
    "\n",
    "    @property    \n",
    "    def name(self): # fget = name\n",
    "        return self._name\n",
    "\n",
    "    @name.setter\n",
    "    def name(self, name):\n",
    "        self._name = name"
   ]
  }
 ],
 "metadata": {
  "kernelspec": {
   "display_name": "Python 3",
   "language": "python",
   "name": "python3"
  },
  "language_info": {
   "codemirror_mode": {
    "name": "ipython",
    "version": 3
   },
   "file_extension": ".py",
   "mimetype": "text/x-python",
   "name": "python",
   "nbconvert_exporter": "python",
   "pygments_lexer": "ipython3",
   "version": "3.12.3"
  }
 },
 "nbformat": 4,
 "nbformat_minor": 2
}
