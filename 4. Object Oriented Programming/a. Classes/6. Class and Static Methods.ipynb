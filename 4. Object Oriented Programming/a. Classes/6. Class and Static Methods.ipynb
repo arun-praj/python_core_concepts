{
 "cells": [
  {
   "cell_type": "markdown",
   "metadata": {},
   "source": [
    "# Class Methods\n",
    "\n",
    "methods that are bound to a class."
   ]
  },
  {
   "cell_type": "code",
   "execution_count": null,
   "metadata": {},
   "outputs": [],
   "source": [
    "class Person:\n",
    "    # This is just a function\n",
    "    def hello():\n",
    "        print('Hello')\n",
    "    \n",
    "    def goodbye(self):\n",
    "        print('Goodbye from', self)\n",
    "    \n",
    "    @classmethod\n",
    "    def class_hello(cls):\n",
    "        print('Hello from class :',cls)"
   ]
  },
  {
   "cell_type": "markdown",
   "metadata": {},
   "source": [
    "# Static Methods\n",
    "\n",
    "A function that will never be bound to any object when called."
   ]
  },
  {
   "cell_type": "code",
   "execution_count": 2,
   "metadata": {},
   "outputs": [],
   "source": [
    "class Person:\n",
    "\n",
    "    # function bound to instance when called from instance\n",
    "    # Will receive instance as first argument\n",
    "    def goodbye(self):\n",
    "        print('Goodbye from', self)\n",
    "    \n",
    "    # static methods are not bound to class or instance\n",
    "    # receive no implicit first argument\n",
    "    @staticmethod\n",
    "    def hello():\n",
    "        print('Hello')\n",
    "    \n",
    "    # function bound to class when called from the class or instance\n",
    "    # Will receive class as first argument\n",
    "    @classmethod\n",
    "    def class_hello(cls):\n",
    "        print('Hello from class :',cls)"
   ]
  },
  {
   "cell_type": "code",
   "execution_count": 3,
   "metadata": {},
   "outputs": [
    {
     "data": {
      "text/plain": [
       "function"
      ]
     },
     "execution_count": 3,
     "metadata": {},
     "output_type": "execute_result"
    }
   ],
   "source": [
    "type(Person.hello)"
   ]
  },
  {
   "cell_type": "code",
   "execution_count": 4,
   "metadata": {},
   "outputs": [
    {
     "data": {
      "text/plain": [
       "function"
      ]
     },
     "execution_count": 4,
     "metadata": {},
     "output_type": "execute_result"
    }
   ],
   "source": [
    "p = Person()\n",
    "type(p.hello)"
   ]
  },
  {
   "cell_type": "markdown",
   "metadata": {},
   "source": [
    "`p.hello()` will not throw TypeError because static methods are never bound to an object. "
   ]
  }
 ],
 "metadata": {
  "kernelspec": {
   "display_name": "Python 3",
   "language": "python",
   "name": "python3"
  },
  "language_info": {
   "codemirror_mode": {
    "name": "ipython",
    "version": 3
   },
   "file_extension": ".py",
   "mimetype": "text/x-python",
   "name": "python",
   "nbconvert_exporter": "python",
   "pygments_lexer": "ipython3",
   "version": "3.12.3"
  }
 },
 "nbformat": 4,
 "nbformat_minor": 2
}
