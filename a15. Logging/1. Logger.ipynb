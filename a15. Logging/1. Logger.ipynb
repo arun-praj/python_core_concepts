{
 "cells": [
  {
   "cell_type": "markdown",
   "metadata": {},
   "source": [
    "## logging\n",
    "\n",
    "- track events that happen when an application runs\n",
    "- An event can be described by a message and can optionally contain data specific to the event. Events also have a level or severity assigned by the developer.\n",
    "\n",
    "- Logging is very useful for debugging and for tracking any required information."
   ]
  },
  {
   "cell_type": "code",
   "execution_count": 3,
   "metadata": {},
   "outputs": [],
   "source": [
    "# python alrady contain login module\n",
    "import logging\n",
    "\n",
    "log = logging.getLogger('myLogger')\n",
    "log.info('You are not allowed to access this file.')"
   ]
  },
  {
   "cell_type": "markdown",
   "metadata": {},
   "source": [
    "### Loggin leveles"
   ]
  },
  {
   "cell_type": "markdown",
   "metadata": {},
   "source": [
    "- DEBUG - Detailed information, typically of interest when diagnosing problems.\n",
    "- INFO - Confirmation of things working as expected.\n",
    "- WARNING - Indication of something unexpected or a problem in the near future e.g. 'disk space low'.\n",
    "- ERROR - A more serious problem due to which the program was unable to perform a function.\n",
    "- CRITICAL - A serious error, indicating that the program itself may not be able to continue executing.\n",
    "\n",
    "\n",
    "The default log level is WARNING, which means that only events of this level and above are logged by default."
   ]
  },
  {
   "cell_type": "markdown",
   "metadata": {},
   "source": [
    "### Loggin to a file"
   ]
  },
  {
   "cell_type": "code",
   "execution_count": 6,
   "metadata": {},
   "outputs": [],
   "source": [
    "logging.basicConfig(level=logging.INFO, filename='INFOLOG.log', encoding='UTF-8')\n",
    "\n",
    "def adder(a,b):\n",
    "    try:\n",
    "        c = a+b\n",
    "    except TypeError:\n",
    "        log.info('Value error occured, Enter valid a and b')\n",
    "\n",
    "adder(1,\"arun\")\n"
   ]
  },
  {
   "cell_type": "code",
   "execution_count": null,
   "metadata": {},
   "outputs": [],
   "source": []
  }
 ],
 "metadata": {
  "interpreter": {
   "hash": "ac59ebe37160ed0dfa835113d9b8498d9f09ceb179beaac4002f036b9467c963"
  },
  "kernelspec": {
   "display_name": "Python 3.9.5 64-bit",
   "language": "python",
   "name": "python3"
  },
  "language_info": {
   "codemirror_mode": {
    "name": "ipython",
    "version": 3
   },
   "file_extension": ".py",
   "mimetype": "text/x-python",
   "name": "python",
   "nbconvert_exporter": "python",
   "pygments_lexer": "ipython3",
   "version": "3.9.5"
  },
  "orig_nbformat": 4
 },
 "nbformat": 4,
 "nbformat_minor": 2
}
