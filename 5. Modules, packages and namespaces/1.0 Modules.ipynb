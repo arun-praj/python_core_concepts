{
 "cells": [
  {
   "cell_type": "markdown",
   "metadata": {},
   "source": [
    "# Module\n",
    "\n",
    "- Module is nothing but an Object.\n",
    "- It is an instance of module type.\n",
    "- '* First underestand what is python namespaces"
   ]
  },
  {
   "cell_type": "code",
   "execution_count": 2,
   "metadata": {},
   "outputs": [
    {
     "data": {
      "text/plain": [
       "module"
      ]
     },
     "execution_count": 2,
     "metadata": {},
     "output_type": "execute_result"
    }
   ],
   "source": [
    "import math\n",
    "type(math)"
   ]
  },
  {
   "cell_type": "code",
   "execution_count": 11,
   "metadata": {},
   "outputs": [
    {
     "data": {
      "text/plain": [
       "True"
      ]
     },
     "execution_count": 11,
     "metadata": {},
     "output_type": "execute_result"
    }
   ],
   "source": [
    "import types\n",
    "isinstance(math,types.ModuleType)"
   ]
  },
  {
   "cell_type": "markdown",
   "metadata": {},
   "source": [
    "What happens is that,\n",
    "When we import modules, the reference of object is added into global namespace.\n",
    "- Also it is cached into system cache"
   ]
  },
  {
   "cell_type": "markdown",
   "metadata": {},
   "source": [
    "Math module is in global namespace"
   ]
  },
  {
   "cell_type": "code",
   "execution_count": 3,
   "metadata": {},
   "outputs": [
    {
     "data": {
      "text/plain": [
       "<module 'math' (built-in)>"
      ]
     },
     "execution_count": 3,
     "metadata": {},
     "output_type": "execute_result"
    }
   ],
   "source": [
    "globals()['math']"
   ]
  },
  {
   "cell_type": "markdown",
   "metadata": {},
   "source": [
    "Math module is also in system cache"
   ]
  },
  {
   "cell_type": "code",
   "execution_count": 8,
   "metadata": {},
   "outputs": [
    {
     "name": "stdout",
     "output_type": "stream",
     "text": [
      "2531016027728\n"
     ]
    },
    {
     "data": {
      "text/plain": [
       "2531016027728"
      ]
     },
     "execution_count": 8,
     "metadata": {},
     "output_type": "execute_result"
    }
   ],
   "source": [
    "print(id(globals()['math']))\n",
    "import sys\n",
    "id(sys.modules['math'])\n",
    "# we can see that both store the same instance of math module"
   ]
  },
  {
   "cell_type": "markdown",
   "metadata": {},
   "source": [
    "## How python actually imports modules."
   ]
  },
  {
   "cell_type": "markdown",
   "metadata": {},
   "source": [
    "#### The first thing is to note that python is doing the import at run time. Different from C, compile time\n",
    "#### The sys module has a few properties that define where python is going to look for modules. (including buildins, standard or our own third party modules)"
   ]
  },
  {
   "cell_type": "code",
   "execution_count": 13,
   "metadata": {},
   "outputs": [
    {
     "data": {
      "text/plain": [
       "'C:\\\\Program Files\\\\Python39'"
      ]
     },
     "execution_count": 13,
     "metadata": {},
     "output_type": "execute_result"
    }
   ],
   "source": [
    "import sys\n",
    "\n",
    "#prints where python is installed\n",
    "sys.prefix"
   ]
  },
  {
   "cell_type": "code",
   "execution_count": 14,
   "metadata": {},
   "outputs": [
    {
     "data": {
      "text/plain": [
       "'C:\\\\Program Files\\\\Python39'"
      ]
     },
     "execution_count": 14,
     "metadata": {},
     "output_type": "execute_result"
    }
   ],
   "source": [
    "sys.exec_prefix # prints where the compiled binaries are located"
   ]
  },
  {
   "cell_type": "markdown",
   "metadata": {},
   "source": [
    "These two are the main reason virtual enviroment are basically able to work with different environment.\n",
    " - ie venv is able to work\n",
    "if we create venv then the prefix will point to that python location"
   ]
  },
  {
   "cell_type": "code",
   "execution_count": 15,
   "metadata": {},
   "outputs": [
    {
     "data": {
      "text/plain": [
       "['c:\\\\Users\\\\arun.prajapati\\\\OneDrive - Cotiviti\\\\Desktop\\\\python_core_concepts\\\\5. Modules, packages and namespaces',\n",
       " 'C:\\\\Program Files\\\\Python39\\\\python39.zip',\n",
       " 'C:\\\\Program Files\\\\Python39\\\\DLLs',\n",
       " 'C:\\\\Program Files\\\\Python39\\\\lib',\n",
       " 'C:\\\\Program Files\\\\Python39',\n",
       " '',\n",
       " 'C:\\\\Users\\\\arun.prajapati\\\\AppData\\\\Roaming\\\\Python\\\\Python39\\\\site-packages',\n",
       " 'C:\\\\Users\\\\arun.prajapati\\\\AppData\\\\Roaming\\\\Python\\\\Python39\\\\site-packages\\\\win32',\n",
       " 'C:\\\\Users\\\\arun.prajapati\\\\AppData\\\\Roaming\\\\Python\\\\Python39\\\\site-packages\\\\win32\\\\lib',\n",
       " 'C:\\\\Users\\\\arun.prajapati\\\\AppData\\\\Roaming\\\\Python\\\\Python39\\\\site-packages\\\\Pythonwin',\n",
       " 'C:\\\\Program Files\\\\Python39\\\\lib\\\\site-packages']"
      ]
     },
     "execution_count": 15,
     "metadata": {},
     "output_type": "execute_result"
    }
   ],
   "source": [
    "sys.path # path where python looks for modules"
   ]
  },
  {
   "cell_type": "markdown",
   "metadata": {},
   "source": [
    "Basically when we import module, Python will search for the module in the paths contained in sys.path.\n",
    "If it doesnot find the module in this path , the import will fail.\n",
    "So if we ever run error of Module not found, then we should always check for path\n"
   ]
  }
 ],
 "metadata": {
  "interpreter": {
   "hash": "ac59ebe37160ed0dfa835113d9b8498d9f09ceb179beaac4002f036b9467c963"
  },
  "kernelspec": {
   "display_name": "Python 3.9.5 64-bit",
   "language": "python",
   "name": "python3"
  },
  "language_info": {
   "codemirror_mode": {
    "name": "ipython",
    "version": 3
   },
   "file_extension": ".py",
   "mimetype": "text/x-python",
   "name": "python",
   "nbconvert_exporter": "python",
   "pygments_lexer": "ipython3",
   "version": "3.9.5"
  },
  "orig_nbformat": 4
 },
 "nbformat": 4,
 "nbformat_minor": 2
}
