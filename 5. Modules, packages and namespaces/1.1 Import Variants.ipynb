{
 "cells": [
  {
   "cell_type": "markdown",
   "metadata": {},
   "source": [
    "# Import Variants"
   ]
  },
  {
   "cell_type": "markdown",
   "metadata": {},
   "source": [
    "## 1. 1st Varient"
   ]
  },
  {
   "cell_type": "code",
   "execution_count": 1,
   "metadata": {},
   "outputs": [
    {
     "data": {
      "text/plain": [
       "<module 'math' (built-in)>"
      ]
     },
     "execution_count": 1,
     "metadata": {},
     "output_type": "execute_result"
    }
   ],
   "source": [
    "import math\n",
    "math"
   ]
  },
  {
   "cell_type": "markdown",
   "metadata": {},
   "source": [
    "Python first looks in sys.modules dict, if it doesnot find there, then add the reference of math module to dict\n",
    "\n",
    "ie\n",
    "\n",
    "```\n",
    "    #sys.modules\n",
    "    {\n",
    "        ...\n",
    "        'math': <module object> 0x1000\n",
    "    }\n",
    "```\n",
    "Also add math symbol to global namespace reference to same object\n",
    "```\n",
    "    #globals()\n",
    "    {\n",
    "        ...\n",
    "        'math': <module object> 0x1000\n",
    "    }\n",
    "```\n"
   ]
  },
  {
   "cell_type": "markdown",
   "metadata": {},
   "source": [
    "## 2. 2nd Varient"
   ]
  },
  {
   "cell_type": "code",
   "execution_count": null,
   "metadata": {},
   "outputs": [],
   "source": [
    "import math as my_math"
   ]
  },
  {
   "cell_type": "markdown",
   "metadata": {},
   "source": [
    "Same as 1st varient but instead of adding symbol 'math' in out namespace it will add 'my_math' symbol referencing same object as sys.modules\n",
    "\n",
    "\n",
    "\n",
    "```\n",
    "    #globals\n",
    "    {\n",
    "        'my_math': <module object> 0x1000\n",
    "    }\n",
    "```\n",
    "\n",
    "Similar as doing\n",
    "```\n",
    "import math\n",
    "my_math = math\n",
    "```"
   ]
  },
  {
   "cell_type": "markdown",
   "metadata": {},
   "source": [
    "## 3. 3rd varient"
   ]
  },
  {
   "cell_type": "code",
   "execution_count": null,
   "metadata": {},
   "outputs": [],
   "source": [
    "from math import sqrt"
   ]
  },
  {
   "cell_type": "markdown",
   "metadata": {},
   "source": [
    "Is math in sys.Module?\n",
    "\n",
    "In not load the module and insert ref.\n",
    "```\n",
    "#sys.modules\n",
    "{\n",
    "    'math':<module 'math'>\n",
    "}\n",
    "\n",
    "Add symbol sqrt to our module's global namespace referencing math.sqrt\n",
    "\n",
    "#sys.modules\n",
    "{\n",
    "    'sqrt':<module 'math.sqrt'>\n",
    "}\n"
   ]
  },
  {
   "cell_type": "markdown",
   "metadata": {},
   "source": [
    "## 4. 4th varient\n",
    "\n"
   ]
  },
  {
   "cell_type": "code",
   "execution_count": null,
   "metadata": {},
   "outputs": [],
   "source": [
    "from math import sqrt as my_sqrt\n",
    "from math import * # adds all attributes in global namescope, usually not recommended and can lead to bug"
   ]
  },
  {
   "cell_type": "markdown",
   "metadata": {},
   "source": [
    "Is math in sys.Module?\n",
    "\n",
    "In not load the module and insert ref.\n",
    "```\n",
    "#sys.modules\n",
    "{\n",
    "    'math':<module 'math'>\n",
    "}\n",
    "\n",
    "Add symbol my_sqrt to our module's global namespace referencing math.sqrt\n",
    "\n",
    "#sys.modules\n",
    "{\n",
    "    'my_sqrt':<module 'math.sqrt'>\n",
    "}"
   ]
  }
 ],
 "metadata": {
  "interpreter": {
   "hash": "ac59ebe37160ed0dfa835113d9b8498d9f09ceb179beaac4002f036b9467c963"
  },
  "kernelspec": {
   "display_name": "Python 3.9.5 64-bit",
   "language": "python",
   "name": "python3"
  },
  "language_info": {
   "codemirror_mode": {
    "name": "ipython",
    "version": 3
   },
   "file_extension": ".py",
   "mimetype": "text/x-python",
   "name": "python",
   "nbconvert_exporter": "python",
   "pygments_lexer": "ipython3",
   "version": "3.9.5"
  },
  "orig_nbformat": 4
 },
 "nbformat": 4,
 "nbformat_minor": 2
}
