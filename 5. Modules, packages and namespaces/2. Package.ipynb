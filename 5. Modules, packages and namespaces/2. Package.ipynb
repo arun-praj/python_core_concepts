{
 "cells": [
  {
   "cell_type": "markdown",
   "metadata": {},
   "source": [
    "# Packages\n",
    "\n",
    "packages are modules. But modules are not necessaily packages.\n",
    "\n",
    "Package can contain:\n",
    "1. Packages(sub-package)\n",
    "2. module"
   ]
  },
  {
   "cell_type": "markdown",
   "metadata": {},
   "source": [
    "If a module is a package, it must have a value set of ```__path__```"
   ]
  },
  {
   "cell_type": "markdown",
   "metadata": {},
   "source": [
    "The directory name becomes the package name.\n",
    "\n",
    "So where does the code goes for the package? (Since it is a module)\n",
    "\n",
    "```\n",
    "    It goes into __init__.py file\n",
    "```"
   ]
  },
  {
   "cell_type": "code",
   "execution_count": 6,
   "metadata": {},
   "outputs": [
    {
     "name": "stdout",
     "output_type": "stream",
     "text": [
      "ARRRRUN\n"
     ]
    },
    {
     "data": {
      "text/plain": [
       "'c:\\\\Users\\\\arun.prajapati\\\\OneDrive - Cotiviti\\\\Desktop\\\\python_core_concepts\\\\5. Modules, packages and namespaces\\\\test_module\\\\Myname.py'"
      ]
     },
     "execution_count": 6,
     "metadata": {},
     "output_type": "execute_result"
    }
   ],
   "source": [
    "#Module\n",
    "from test_module import Myname\n",
    "\n",
    "Myname.print_my_name('ARRRRUN')\n",
    "# Myname.__path__ # fails because Myname is not a package but a module, instead use __file__ for module\n",
    "Myname.__file__"
   ]
  },
  {
   "cell_type": "code",
   "execution_count": 3,
   "metadata": {},
   "outputs": [
    {
     "data": {
      "text/plain": [
       "['c:\\\\Users\\\\arun.prajapati\\\\OneDrive - Cotiviti\\\\Desktop\\\\python_core_concepts\\\\5. Modules, packages and namespaces\\\\test_package']"
      ]
     },
     "execution_count": 3,
     "metadata": {},
     "output_type": "execute_result"
    }
   ],
   "source": [
    "#package\n",
    "import test_package\n",
    "test_package.__path__ # absolute path"
   ]
  },
  {
   "cell_type": "markdown",
   "metadata": {},
   "source": [
    "### importing nested packages\n",
    "\n",
    "eg:\n",
    "```\n",
    "    import pac1.pac2.pac3\n",
    "\n",
    "```\n",
    "\n",
    "Python perfrom these steps:\n",
    "```    \n",
    "    1. import pac1\n",
    "    2. import pac1.pac2\n",
    "    3. import pac1.pac2.pac3\n",
    "```\n",
    "\n",
    "The sys.modules cache will contain.\n",
    "```  \n",
    "    1. import pac1\n",
    "    2. import pac1.pac2\n",
    "    3. import pac1.pac2.pac3\n",
    "```\n",
    "\n",
    "But the namespace where the import was run contain ``` pac1```"
   ]
  },
  {
   "cell_type": "markdown",
   "metadata": {},
   "source": [
    "# Why packages?\n",
    "\n",
    "Just code organization and ease of use."
   ]
  },
  {
   "cell_type": "markdown",
   "metadata": {},
   "source": [
    "Suppose you have 50 different functions and classes in your program\n",
    "\n",
    "#### in single file api.py we might have\n",
    "api.py --> connect_db,get_current_time, auth, notification, User_class, Blog_class\n",
    "\n",
    "#### Now we divide into modules, but still every thing is at top level.\n",
    "api/\n",
    "    api.py\n",
    "    db_connect.py\n",
    "    notification..py\n",
    "    User_class.py\n",
    "    auth.py\n",
    "    ...\n",
    "\n",
    "### Now finally into package\n",
    "\n",
    "api/\n",
    "    db_utility/\n",
    "        __init__py\n",
    "        connections.py\n",
    "        queries.py\n",
    "        migrations.py\n",
    "    auth/   \n",
    "        __init__.py\n",
    "        login.py\n",
    "        signup.py\n",
    "        ...\n",
    "    ...\n",
    "...\n",
    "\n"
   ]
  },
  {
   "cell_type": "code",
   "execution_count": null,
   "metadata": {},
   "outputs": [],
   "source": []
  },
  {
   "cell_type": "code",
   "execution_count": null,
   "metadata": {},
   "outputs": [],
   "source": []
  }
 ],
 "metadata": {
  "interpreter": {
   "hash": "ac59ebe37160ed0dfa835113d9b8498d9f09ceb179beaac4002f036b9467c963"
  },
  "kernelspec": {
   "display_name": "Python 3.9.5 64-bit",
   "language": "python",
   "name": "python3"
  },
  "language_info": {
   "codemirror_mode": {
    "name": "ipython",
    "version": 3
   },
   "file_extension": ".py",
   "mimetype": "text/x-python",
   "name": "python",
   "nbconvert_exporter": "python",
   "pygments_lexer": "ipython3",
   "version": "3.9.5"
  },
  "orig_nbformat": 4
 },
 "nbformat": 4,
 "nbformat_minor": 2
}
