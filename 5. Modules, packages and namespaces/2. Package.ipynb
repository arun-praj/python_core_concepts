{
 "cells": [
  {
   "cell_type": "markdown",
   "metadata": {},
   "source": [
    "# Packages\n",
    "\n",
    "packages are modules. But modules are not necessaily packages.\n",
    "\n",
    "Package can contain:\n",
    "1. Packages(sub-package)\n",
    "2. module"
   ]
  },
  {
   "cell_type": "markdown",
   "metadata": {},
   "source": [
    "If a module is a package, it must have a value set of ```__path__```"
   ]
  },
  {
   "cell_type": "markdown",
   "metadata": {},
   "source": [
    "The directory name becomes the package name.\n",
    "\n",
    "So where does the code goes for the package? (Since it is a module)\n",
    "\n",
    "```\n",
    "    It goes into __init__.py file\n",
    "```"
   ]
  },
  {
   "cell_type": "code",
   "execution_count": 1,
   "metadata": {},
   "outputs": [
    {
     "name": "stdout",
     "output_type": "stream",
     "text": [
      "ARRRRUN\n"
     ]
    }
   ],
   "source": [
    "#Module\n",
    "from test_module import Myname\n",
    "\n",
    "Myname.print_my_name('ARRRRUN')"
   ]
  },
  {
   "cell_type": "markdown",
   "metadata": {},
   "source": [
    "### importing nested packages\n",
    "\n",
    "eg:\n",
    "```\n",
    "    import pac1.pac2.pac3\n",
    "\n",
    "```\n",
    "\n",
    "Python perfrom these steps:\n",
    "```    \n",
    "    1. import pac1\n",
    "    2. import pac1.pac2\n",
    "    3. import pac1.pac2.pac3\n",
    "```\n",
    "\n",
    "The sys.modules cache will contain.\n",
    "```  \n",
    "    1. import pac1\n",
    "    2. import pac1.pac2\n",
    "    3. import pac1.pac2.pac3\n",
    "```\n",
    "\n",
    "But the namespace where the import was run contain ``` pac1```"
   ]
  },
  {
   "cell_type": "code",
   "execution_count": null,
   "metadata": {},
   "outputs": [],
   "source": []
  },
  {
   "cell_type": "code",
   "execution_count": null,
   "metadata": {},
   "outputs": [],
   "source": []
  }
 ],
 "metadata": {
  "interpreter": {
   "hash": "ac59ebe37160ed0dfa835113d9b8498d9f09ceb179beaac4002f036b9467c963"
  },
  "kernelspec": {
   "display_name": "Python 3.9.5 64-bit",
   "language": "python",
   "name": "python3"
  },
  "language_info": {
   "codemirror_mode": {
    "name": "ipython",
    "version": 3
   },
   "file_extension": ".py",
   "mimetype": "text/x-python",
   "name": "python",
   "nbconvert_exporter": "python",
   "pygments_lexer": "ipython3",
   "version": "3.9.5"
  },
  "orig_nbformat": 4
 },
 "nbformat": 4,
 "nbformat_minor": 2
}
