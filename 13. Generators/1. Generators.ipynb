{
 "cells": [
  {
   "cell_type": "markdown",
   "metadata": {},
   "source": [
    "# Generators\n",
    "\n",
    "- A type of iterators\n",
    "- is inherently lazy iterators, means we donot need to precalculate the loop, calculate as we call them. \n",
    "- Hence we can use it for infinite loop"
   ]
  },
  {
   "cell_type": "markdown",
   "metadata": {},
   "source": [
    "### Generator function\n",
    "\n",
    "- A generator factories that returns generator when called.\n",
    "- They are not generator themselves."
   ]
  },
  {
   "cell_type": "markdown",
   "metadata": {},
   "source": [
    "### Generator Expressions\n",
    "\n",
    "- Uses comprehension syntax\n",
    "- more concise way of creating generators\n",
    "- for simple situations"
   ]
  },
  {
   "cell_type": "markdown",
   "metadata": {},
   "source": [
    "---\n",
    "\n",
    "It is usually hard to create a iterator, You have to manually implement   ```__iter__()``` and ```__next__()```\n",
    "\n",
    "\n",
    "So, there must be a simple better way.\n",
    "```\n",
    " # this code is harder in iterators way of doing but if we want something like below: we can use generator\n",
    "    def fact(n):\n",
    "        for i in range(n):\n",
    "            emit fact(i)\n",
    "            pause execution here\n",
    "            wait for resume\n",
    "        return done\n",
    "```"
   ]
  },
  {
   "cell_type": "markdown",
   "metadata": {},
   "source": [
    "### Yield\n",
    "\n",
    "Yield does exactly that:\n",
    "- It emits the value\n",
    "- The function is effectively suspended (But it retains its current state)\n",
    "- calling next on the function resumes running the function right after the yield statement. \n",
    "    (If function returns something else instead of yield then it stops the execution (StopIteration))\n",
    "\n",
    "So, we can think of function that contain yield statment as a generator factories.\n",
    "- The generator is created by python when the function is called\n",
    "- The result generator is execute by calling iterator protocol next().( recall iterator)"
   ]
  },
  {
   "cell_type": "code",
   "execution_count": 12,
   "metadata": {},
   "outputs": [],
   "source": [
    "# eg\n",
    "def song():\n",
    "    print('Line 1')\n",
    "    yield('Hello darkness my old friend')\n",
    "    print('line 2')\n",
    "    yield('I have come to see you again')\n"
   ]
  },
  {
   "cell_type": "code",
   "execution_count": 13,
   "metadata": {},
   "outputs": [
    {
     "data": {
      "text/plain": [
       "<generator object song at 0x000001F28D9D2B30>"
      ]
     },
     "execution_count": 13,
     "metadata": {},
     "output_type": "execute_result"
    }
   ],
   "source": [
    "lines = song()\n",
    "lines"
   ]
  },
  {
   "cell_type": "code",
   "execution_count": 14,
   "metadata": {},
   "outputs": [
    {
     "name": "stdout",
     "output_type": "stream",
     "text": [
      "Line 1\n"
     ]
    }
   ],
   "source": [
    "line = next(lines) #prints Line1 and also assign line to 'Hello darkness my ...' and the function pauses\n"
   ]
  },
  {
   "cell_type": "code",
   "execution_count": 15,
   "metadata": {},
   "outputs": [
    {
     "name": "stdout",
     "output_type": "stream",
     "text": [
      "Hello darkness my old friend\n"
     ]
    }
   ],
   "source": [
    "print(line)"
   ]
  },
  {
   "cell_type": "code",
   "execution_count": 16,
   "metadata": {},
   "outputs": [
    {
     "name": "stdout",
     "output_type": "stream",
     "text": [
      "line 2\n",
      "I have come to see you again\n"
     ]
    }
   ],
   "source": [
    "line = next(lines)\n",
    "print(line)"
   ]
  }
 ],
 "metadata": {
  "interpreter": {
   "hash": "ac59ebe37160ed0dfa835113d9b8498d9f09ceb179beaac4002f036b9467c963"
  },
  "kernelspec": {
   "display_name": "Python 3.9.5 64-bit",
   "language": "python",
   "name": "python3"
  },
  "language_info": {
   "codemirror_mode": {
    "name": "ipython",
    "version": 3
   },
   "file_extension": ".py",
   "mimetype": "text/x-python",
   "name": "python",
   "nbconvert_exporter": "python",
   "pygments_lexer": "ipython3",
   "version": "3.9.5"
  },
  "orig_nbformat": 4
 },
 "nbformat": 4,
 "nbformat_minor": 2
}
