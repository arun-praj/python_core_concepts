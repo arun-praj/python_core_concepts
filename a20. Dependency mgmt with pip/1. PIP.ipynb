{
 "cells": [
  {
   "cell_type": "markdown",
   "metadata": {},
   "source": [
    "# PIP\n",
    "Pip is Python’s package manager, providing essential core features for installing and maintaining Python packages and their dependencies. While many Python developers use Pip as a Dependency Manager, it was never intended to be used as one. Pip will not flag dependency conflicts. As a result, it will happily install multiple versions of a dependency into your project, which will likely result in errors."
   ]
  },
  {
   "cell_type": "markdown",
   "metadata": {},
   "source": [
    "The pip command installs packages and their dependencies from PyPI (Python Package Index) by default:\n",
    "\n",
    "```\n",
    "    python3 -m pip install <packagename>\n",
    "```"
   ]
  },
  {
   "cell_type": "markdown",
   "metadata": {},
   "source": [
    " Requirements.txt files can be used to make pip resolve dependency conflicts between different packages.\n",
    "\n",
    "Install dependency from requirements.txt\n",
    "```\n",
    "    pip install -r requirements.txt\n",
    "```\n",
    "\n",
    "\n",
    "Uninstall a package\n",
    "```\n",
    "    pip uninstall <packagename>\n",
    "```\n",
    "\n",
    "List installed package\n",
    "```\n",
    "    pip list\n",
    "```\n",
    "\n",
    "Create requirements.txt automatically\n",
    "\n",
    "```\n",
    "    pip freexe > requirements.txt\n",
    "```\n",
    "\n",
    "Upgrade a package\n",
    "```\n",
    "    pip install package_name --upgrade\n",
    "```\n",
    "\n",
    "Remove all package installed by PIP\n",
    "```\n",
    "    python3 -m pip freeze > requirements.txt && python3 -m pip uninstall -r requirements.txt -y\n",
    "```\n",
    "\n",
    "Get info about spicific package\n",
    "```\n",
    "    pip show package_name\n",
    "```\n",
    "\n",
    "Display debug info\n",
    "```\n",
    "    pip debug\n",
    "```\n"
   ]
  },
  {
   "cell_type": "markdown",
   "metadata": {},
   "source": []
  }
 ],
 "metadata": {
  "language_info": {
   "name": "python"
  },
  "orig_nbformat": 4
 },
 "nbformat": 4,
 "nbformat_minor": 2
}
