{
 "cells": [
  {
   "cell_type": "markdown",
   "metadata": {},
   "source": [
    "# Position vs Keyword args"
   ]
  },
  {
   "cell_type": "markdown",
   "metadata": {},
   "source": [
    "- <b>The default args always comes after position argument</b>\n",
    "- In position the position of the parameter matters.\n",
    "- Postion doesnot matter in kwargs."
   ]
  },
  {
   "cell_type": "code",
   "execution_count": null,
   "metadata": {},
   "outputs": [],
   "source": [
    "\n",
    "#this works\n",
    "def my_func(a,b=2,c=4):\n",
    "    pass\n",
    "\n",
    "my_func(1)\n",
    "\n",
    "# but below is wrong\n",
    "# def my_func(a,b=2,c):\n",
    "#     pass\n",
    "\n",
    "# my_func(1)"
   ]
  },
  {
   "cell_type": "markdown",
   "metadata": {},
   "source": [
    "### Keyword args"
   ]
  },
  {
   "cell_type": "code",
   "execution_count": null,
   "metadata": {},
   "outputs": [],
   "source": [
    "def myfunc(a,b=2,c=10):\n",
    "    pass\n",
    "\n",
    "#suppose you dont have value of b then,\n",
    "myfunc(a=1,c=3)\n",
    "# or\n",
    "myfunc(1,c=3)"
   ]
  },
  {
   "cell_type": "markdown",
   "metadata": {},
   "source": [
    "Once you use named argument, all argument therafter must be named too."
   ]
  },
  {
   "cell_type": "markdown",
   "metadata": {},
   "source": [
    "## *args vs **kwargs\n",
    "\n",
    "*First read 4.4.1 Extended unpacking\n",
    "- *args must always come after postion parameter\n",
    "- **kwargs must always come after *args"
   ]
  },
  {
   "cell_type": "code",
   "execution_count": 1,
   "metadata": {},
   "outputs": [],
   "source": [
    "def fun1(a,b,*args): #it is customatory not mandatory to name it args. \n",
    "    # a,b,*args = [1,2,3,4,5,6]\n",
    "    # a=1,b=2, args=(3,4,5,6) # c is a tuple not list unlike extended unpacking\n",
    "    pass\n",
    "fun1(1,2,3,4,5,6)"
   ]
  },
  {
   "cell_type": "code",
   "execution_count": null,
   "metadata": {},
   "outputs": [],
   "source": [
    "# if we want any number if args and kwargs\n",
    "def myfunc(*args,**kwargs): # we can use any name we want\n",
    "    pass\n",
    "\n",
    "myfunc(1,2,3,name='arun',pos='intern')# works\n",
    "myfunc(2,3) #this also works"
   ]
  }
 ],
 "metadata": {
  "interpreter": {
   "hash": "ac59ebe37160ed0dfa835113d9b8498d9f09ceb179beaac4002f036b9467c963"
  },
  "kernelspec": {
   "display_name": "Python 3.9.5 64-bit",
   "language": "python",
   "name": "python3"
  },
  "language_info": {
   "codemirror_mode": {
    "name": "ipython",
    "version": 3
   },
   "file_extension": ".py",
   "mimetype": "text/x-python",
   "name": "python",
   "nbconvert_exporter": "python",
   "pygments_lexer": "ipython3",
   "version": "3.9.5"
  },
  "orig_nbformat": 4
 },
 "nbformat": 4,
 "nbformat_minor": 2
}
