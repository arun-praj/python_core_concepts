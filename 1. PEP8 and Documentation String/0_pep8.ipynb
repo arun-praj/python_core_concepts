{
 "cells": [
  {
   "cell_type": "markdown",
   "metadata": {},
   "source": [
    "# PEP 8\n",
    "---"
   ]
  },
  {
   "cell_type": "markdown",
   "metadata": {},
   "source": [
    "In programming world,<b> code is read much more that it is written.</b> So PEP-8 is a guidelines that provides:\n",
    "1. Code readability\n",
    "2. Make code consistant across various platform."
   ]
  },
  {
   "cell_type": "markdown",
   "metadata": {},
   "source": [
    "## Naming Convension\n",
    "> <quote> \"Explict is better than implict\" </quote>\n",
    "\n",
    "Avoid inappropriate names for function, varaibles, classes, packages and so on.\n",
    "\n",
    "\n",
    "1. function - use lowercase word/s, saperate words by underscore\n",
    "2. Varaibles - same as func\n",
    "3. Classes - CamelCase\n",
    "4. Constant - uppercase word/s, saperate by underscore\n",
    "5. Modules - same as func\n",
    "6. Package - use short, lowercase words, donot saperate words with underscore"
   ]
  },
  {
   "cell_type": "code",
   "execution_count": null,
   "metadata": {},
   "outputs": [],
   "source": [
    "# eg:\n",
    "\n",
    "def calc_age(): #1\n",
    "    pass\n",
    "\n",
    "age = 12 #2\n",
    "\n",
    "class Student:  #3\n",
    "    pass\n",
    "\n",
    "BIRTH = 1999  #4\n",
    "\n",
    "#my_module.py  #5\n",
    "#mypackage  #6"
   ]
  },
  {
   "cell_type": "markdown",
   "metadata": {},
   "source": [
    "## Code Layout\n",
    "> \"Beautiful is better than ugly\""
   ]
  },
  {
   "cell_type": "markdown",
   "metadata": {},
   "source": [
    "## Rule #1\n",
    "1. Imports sould always be at the top level of file, just after any comments, docstrings and before module GOLBALS and CONSTANTS\n",
    "2. Imports sould be grouped, with the order being:\n",
    "    > 1. non-from imports for Standard and third party library.\n",
    "    > 2. non-from imports from the application.\n",
    "    > 3. from-imports from te standartd and 3rd party library.\n",
    "    > 4. from-imports from the application\n"
   ]
  },
  {
   "cell_type": "code",
   "execution_count": null,
   "metadata": {},
   "outputs": [],
   "source": [
    "#eg:\n",
    "\n",
    "import math #1\n",
    "import my_package #2\n",
    "from math import sqrt #3\n",
    "from my_module import my_func #4"
   ]
  }
 ],
 "metadata": {
  "language_info": {
   "name": "python"
  },
  "orig_nbformat": 4
 },
 "nbformat": 4,
 "nbformat_minor": 2
}
