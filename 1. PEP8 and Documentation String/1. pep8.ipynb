{
 "cells": [
  {
   "cell_type": "markdown",
   "metadata": {},
   "source": [
    "# PEP 8\n",
    "---"
   ]
  },
  {
   "cell_type": "markdown",
   "metadata": {},
   "source": [
    "In programming world,<b> code is read much more that it is written.</b> So PEP-8 is a guidelines that provides:\n",
    "1. Code readability\n",
    "2. Make code consistant across various platform."
   ]
  },
  {
   "cell_type": "markdown",
   "metadata": {},
   "source": [
    "## 1. Naming Convension\n",
    "> <quote> \"Explict is better than implict\" </quote>\n",
    "\n",
    "Avoid inappropriate names for function, varaibles, classes, packages and so on.\n",
    "\n",
    "\n",
    "1. function - use lowercase word/s, saperate words by underscore\n",
    "2. Varaibles - same as func\n",
    "3. Classes - CamelCase\n",
    "4. Constant - uppercase word/s, saperate by underscore\n",
    "5. Modules - same as func\n",
    "6. Package - use short, lowercase words, donot saperate words with underscore"
   ]
  },
  {
   "cell_type": "code",
   "execution_count": 17,
   "metadata": {},
   "outputs": [],
   "source": [
    "# eg:\n",
    "\n",
    "def calc_age(): #1\n",
    "    pass\n",
    "\n",
    "age = 12 #2\n",
    "\n",
    "class Student:  #3\n",
    "    pass\n",
    "\n",
    "BIRTH = 1999  #4\n",
    "\n",
    "#my_module.py  #5\n",
    "#mypackage  #6"
   ]
  },
  {
   "cell_type": "markdown",
   "metadata": {},
   "source": [
    "## 2.Code Layout\n",
    "> \"Beautiful is better than ugly\"\n",
    "\n",
    "Code layout plays huge role in how readable our code is.\n",
    "\n",
    "Code layout:\n",
    "    1. Vertical spaces\n",
    "    2. Handle 79 character line limit recommended by pep-8\n",
    "\n",
    "### 2.1. Vertical white spaces\n",
    "Code bunched together can be hard to read and overwhelming. So below are 3 key guideliness:\n",
    "1. surround top level functions and classes with two blank lines.\n",
    "2. surround method defining inside class with single blank line.\n",
    "3. leave blank between saperate concept.\n"
   ]
  },
  {
   "cell_type": "code",
   "execution_count": 18,
   "metadata": {},
   "outputs": [],
   "source": [
    "# eg:\n",
    "class Student:\n",
    "    def __init__(self):\n",
    "        pass\n",
    "    #1 whitespace\n",
    "    def setName(self):\n",
    "        pass\n",
    "    #1 whitespace\n",
    "    #2 whitespace\n",
    "def calc_age():\n",
    "    pass "
   ]
  },
  {
   "cell_type": "markdown",
   "metadata": {},
   "source": [
    "PEP 8 suggest lines should be limited to 79 characters.\n",
    "When a hanging indent the following should be considered."
   ]
  },
  {
   "cell_type": "code",
   "execution_count": 19,
   "metadata": {},
   "outputs": [
    {
     "ename": "NameError",
     "evalue": "name 'long_function_name' is not defined",
     "output_type": "error",
     "traceback": [
      "\u001b[1;31m---------------------------------------------------------------------------\u001b[0m",
      "\u001b[1;31mNameError\u001b[0m                                 Traceback (most recent call last)",
      "\u001b[1;32mc:\\Users\\arun.prajapati\\OneDrive - Cotiviti\\Desktop\\python_core_concepts\\1. PEP8 and Documentation String\\1. pep8.ipynb Cell 8'\u001b[0m in \u001b[0;36m<cell line: 4>\u001b[1;34m()\u001b[0m\n\u001b[0;32m      <a href='vscode-notebook-cell:/c%3A/Users/arun.prajapati/OneDrive%20-%20Cotiviti/Desktop/python_core_concepts/1.%20PEP8%20and%20Documentation%20String/1.%20pep8.ipynb#ch0000007?line=0'>1</a>\u001b[0m \u001b[39m# Correct:\u001b[39;00m\n\u001b[0;32m      <a href='vscode-notebook-cell:/c%3A/Users/arun.prajapati/OneDrive%20-%20Cotiviti/Desktop/python_core_concepts/1.%20PEP8%20and%20Documentation%20String/1.%20pep8.ipynb#ch0000007?line=1'>2</a>\u001b[0m \n\u001b[0;32m      <a href='vscode-notebook-cell:/c%3A/Users/arun.prajapati/OneDrive%20-%20Cotiviti/Desktop/python_core_concepts/1.%20PEP8%20and%20Documentation%20String/1.%20pep8.ipynb#ch0000007?line=2'>3</a>\u001b[0m \u001b[39m# Aligned with opening delimiter.\u001b[39;00m\n\u001b[1;32m----> <a href='vscode-notebook-cell:/c%3A/Users/arun.prajapati/OneDrive%20-%20Cotiviti/Desktop/python_core_concepts/1.%20PEP8%20and%20Documentation%20String/1.%20pep8.ipynb#ch0000007?line=3'>4</a>\u001b[0m foo \u001b[39m=\u001b[39m long_function_name(var_one, var_two,\n\u001b[0;32m      <a href='vscode-notebook-cell:/c%3A/Users/arun.prajapati/OneDrive%20-%20Cotiviti/Desktop/python_core_concepts/1.%20PEP8%20and%20Documentation%20String/1.%20pep8.ipynb#ch0000007?line=4'>5</a>\u001b[0m                          var_three, var_four)\n\u001b[0;32m      <a href='vscode-notebook-cell:/c%3A/Users/arun.prajapati/OneDrive%20-%20Cotiviti/Desktop/python_core_concepts/1.%20PEP8%20and%20Documentation%20String/1.%20pep8.ipynb#ch0000007?line=6'>7</a>\u001b[0m \u001b[39m# Add 4 spaces (an extra level of indentation) to distinguish arguments from the rest.\u001b[39;00m\n\u001b[0;32m      <a href='vscode-notebook-cell:/c%3A/Users/arun.prajapati/OneDrive%20-%20Cotiviti/Desktop/python_core_concepts/1.%20PEP8%20and%20Documentation%20String/1.%20pep8.ipynb#ch0000007?line=7'>8</a>\u001b[0m \u001b[39mdef\u001b[39;00m \u001b[39mlong_function_name\u001b[39m(\n\u001b[0;32m      <a href='vscode-notebook-cell:/c%3A/Users/arun.prajapati/OneDrive%20-%20Cotiviti/Desktop/python_core_concepts/1.%20PEP8%20and%20Documentation%20String/1.%20pep8.ipynb#ch0000007?line=8'>9</a>\u001b[0m         var_one, var_two, var_three,\n\u001b[0;32m     <a href='vscode-notebook-cell:/c%3A/Users/arun.prajapati/OneDrive%20-%20Cotiviti/Desktop/python_core_concepts/1.%20PEP8%20and%20Documentation%20String/1.%20pep8.ipynb#ch0000007?line=9'>10</a>\u001b[0m         var_four):\n",
      "\u001b[1;31mNameError\u001b[0m: name 'long_function_name' is not defined"
     ]
    }
   ],
   "source": [
    "# Correct:\n",
    "\n",
    "# Aligned with opening delimiter.\n",
    "foo = long_function_name(var_one, var_two,\n",
    "                         var_three, var_four)\n",
    "\n",
    "# Add 4 spaces (an extra level of indentation) to distinguish arguments from the rest.\n",
    "def long_function_name(\n",
    "        var_one, var_two, var_three,\n",
    "        var_four):\n",
    "    print(var_one)\n",
    "\n",
    "# Hanging indents should add a level.\n",
    "foo = long_function_name(\n",
    "    var_one, var_two,\n",
    "    var_three, var_four)"
   ]
  },
  {
   "cell_type": "code",
   "execution_count": null,
   "metadata": {},
   "outputs": [],
   "source": [
    "    # Wrong:\n",
    "\n",
    "# Arguments on first line forbidden when not using vertical alignment.\n",
    "foo = long_function_name(var_one, var_two,\n",
    "    var_three, var_four)\n",
    "\n",
    "# Further indentation required as indentation is not distinguishable.\n",
    "def long_function_name(\n",
    "    var_one, var_two, var_three,\n",
    "    var_four):\n",
    "    print(var_one)"
   ]
  },
  {
   "cell_type": "markdown",
   "metadata": {},
   "source": [
    "## 3. Indentation"
   ]
  },
  {
   "cell_type": "markdown",
   "metadata": {},
   "source": [
    ">\"There should be one-and preferably only one-obvious way to do it\"\n",
    "\n",
    "Indentation is extremly important in python.\n",
    "The key indentation rules laid out by PEP 8 are the following.\n",
    "1. Use 4 consucative spaces to indicated indentation\n",
    "2. Prefer spaces over tabs\n",
    "\n",
    "<b>Do not mix tab and spaces</b>"
   ]
  },
  {
   "cell_type": "markdown",
   "metadata": {},
   "source": [
    "## 4. Comments\n",
    "> \"If the implementation is hard to explain, it's a bad ides.\"\n",
    "\n",
    "It is important to document your code as its written. so that you and any collaborators can underrstand it.\n",
    "\n",
    "key points to write better comments:\n",
    "1. Limit the legth of comments and docstring to 72 characters.\n",
    "2. Use complete sentences.\n",
    "3. Update comment if you change code."
   ]
  },
  {
   "cell_type": "markdown",
   "metadata": {},
   "source": [
    "## Documentation String\n",
    "\n",
    "Docstring and annotation are not used by python(they are not compiled). These are used by external tools (sphinx) for docimentation\n",
    "\n",
    "Or DocString are strings enclosed in  \"\"\" .... \"\"\" or '''....'''.\n",
    "It appears in first line of any function, classes , or modules,\n",
    "\n",
    "- Such docstring become ___doc__attribute of that object.\n",
    "- Write them for all public modules, function, classes and methods."
   ]
  },
  {
   "cell_type": "code",
   "execution_count": 1,
   "metadata": {},
   "outputs": [
    {
     "name": "stdout",
     "output_type": "stream",
     "text": [
      "Calculate the sqrt of a number.\n",
      "        args == int\n",
      "        returns int\n",
      "    \n",
      "Help on function sqrt in module __main__:\n",
      "\n",
      "sqrt(num)\n",
      "    Calculate the sqrt of a number.\n",
      "    args == int\n",
      "    returns int\n",
      "\n",
      "None\n"
     ]
    }
   ],
   "source": [
    "from math import sqrt\n",
    "def sqrt(num):\n",
    "    \"\"\"Calculate the sqrt of a number.\n",
    "        args:\n",
    "            num: non negative number\n",
    "        returns:\n",
    "            the square root of num\n",
    "    \"\"\"\n",
    "    return sqrt(num)\n",
    "print(sqrt.__doc__) \n",
    "\n",
    "# or \n",
    "\n",
    "print(help(sqrt))"
   ]
  },
  {
   "cell_type": "markdown",
   "metadata": {},
   "source": [
    "## Function annotataion\n",
    " PEP->3107"
   ]
  },
  {
   "cell_type": "code",
   "execution_count": 3,
   "metadata": {},
   "outputs": [
    {
     "data": {
      "text/plain": [
       "{'a': str, 'b': str, 'return': str}"
      ]
     },
     "execution_count": 3,
     "metadata": {},
     "output_type": "execute_result"
    }
   ],
   "source": [
    "def myfunc(a:str,b:str)->str:\n",
    "    return a*b\n",
    "\n",
    "myfunc.__annotations__"
   ]
  },
  {
   "cell_type": "markdown",
   "metadata": {},
   "source": [
    "# 5. Whitespace in Expressions and Statements\n",
    "> \"Sparse is better than dense\"\n",
    "\n",
    "Sorround the following binary operators with a single space on either side."
   ]
  },
  {
   "cell_type": "code",
   "execution_count": null,
   "metadata": {},
   "outputs": [],
   "source": [
    "#recommended\n",
    "def func(default_parameter=5):\n",
    "    pass\n",
    "\n",
    "#not recommended\n",
    "def func2(default_paramter = 5):\n",
    "    pass"
   ]
  },
  {
   "cell_type": "code",
   "execution_count": null,
   "metadata": {},
   "outputs": [],
   "source": [
    "#recommended\n",
    "x = 2\n",
    "y = x**2 + 5\n",
    "z = (x**2) + (y**2)\n",
    "\n",
    "#not recommended\n",
    "y = x ** 2 + 5\n",
    "z = (x ** 2) + (y ** 2)"
   ]
  },
  {
   "cell_type": "code",
   "execution_count": null,
   "metadata": {},
   "outputs": [],
   "source": [
    "#recommended\n",
    "my_list=[1,2,3]\n",
    "\n",
    "#not recommended\n",
    "my_list2 = [1,2,3, ] # trailing whitespace -> avoid this"
   ]
  },
  {
   "cell_type": "code",
   "execution_count": null,
   "metadata": {},
   "outputs": [],
   "source": [
    "# not recommended berfore comma,semicolon, colon , parenthesis,[] , {}, ()\n",
    "\n",
    "# recommended\n",
    "def func():\n",
    "    print(x, y)\n",
    "\n",
    "# not recommended\n",
    "def func () :\n",
    "    print(x ,y)"
   ]
  },
  {
   "cell_type": "markdown",
   "metadata": {},
   "source": [
    "## 6. Programming Recommendations\n",
    "> \"Simple is better than complex\"\n",
    "\n",
    "Often there are several ways to to perform similar tasks.\n",
    "Some PIP recommended suggestion to remove ambiguity and preserve consistancy are:\n",
    "\n",
    "1. Don't compare Boolean Values to True or False"
   ]
  },
  {
   "cell_type": "code",
   "execution_count": null,
   "metadata": {},
   "outputs": [
    {
     "name": "stdout",
     "output_type": "stream",
     "text": [
      "You have died\n",
      "You have died\n"
     ]
    }
   ],
   "source": [
    "game_over = True\n",
    "\n",
    "# recommended\n",
    "if game_over:\n",
    "    print('You have died')\n",
    "#not recommended\n",
    "if game_over == True:\n",
    "    print('You have died')\n"
   ]
  },
  {
   "cell_type": "markdown",
   "metadata": {},
   "source": [
    "2. Use the fact that empty list,set, Dict are falsy value"
   ]
  },
  {
   "cell_type": "code",
   "execution_count": null,
   "metadata": {},
   "outputs": [
    {
     "name": "stdout",
     "output_type": "stream",
     "text": [
      "Names are empty\n",
      "Names are Empty\n"
     ]
    }
   ],
   "source": [
    "names = []\n",
    "\n",
    "#recommended\n",
    "if not names:\n",
    "    print('Names are empty')\n",
    "\n",
    "#not recommended\n",
    "if not len(names):\n",
    "    print('Names are Empty')"
   ]
  },
  {
   "cell_type": "markdown",
   "metadata": {},
   "source": [
    "3. Use .. is not .. rather than not ... is ..statements.\n",
    "While both are right, later one is hareder to understand, so PEP-8 enchourages it.\n"
   ]
  },
  {
   "cell_type": "code",
   "execution_count": null,
   "metadata": {},
   "outputs": [
    {
     "name": "stdout",
     "output_type": "stream",
     "text": [
      " x exist\n",
      "x exist\n"
     ]
    }
   ],
   "source": [
    "if x is not None:\n",
    "    print(' x exist')\n",
    "\n",
    "if not x is None:\n",
    "    print('x exist')"
   ]
  },
  {
   "cell_type": "markdown",
   "metadata": {},
   "source": [
    "4. Dont use if x:   when you mean if x is not None.\n",
    "\n",
    "Suppose you want to execute a function even if the value of x is empty list.\n",
    "So if you check by if x: then we know that empty list is falsy so the block wont\n",
    "execute.\n",
    "so check by \n",
    "    if x is not None:\n"
   ]
  },
  {
   "cell_type": "markdown",
   "metadata": {},
   "source": [
    "5. Use .startsWith() and .endsWith() instead of slicing."
   ]
  },
  {
   "cell_type": "markdown",
   "metadata": {},
   "source": [
    "## Import Rules\n",
    "1. Imports sould always be at the top level of file, just after any comments, docstrings and before module GOLBALS and CONSTANTS\n",
    "2. Imports sould be grouped, with the order being:\n",
    "    > 1. non-from imports for Standard and third party library.\n",
    "    > 2. non-from imports from the application.\n",
    "    > 3. from-imports from te standartd and 3rd party library.\n",
    "    > 4. from-imports from the application\n"
   ]
  },
  {
   "cell_type": "code",
   "execution_count": null,
   "metadata": {},
   "outputs": [],
   "source": [
    "#eg:\n",
    "\n",
    "import math #1\n",
    "import my_package #2\n",
    "from math import sqrt #3\n",
    "from my_module import my_func #4"
   ]
  }
 ],
 "metadata": {
  "interpreter": {
   "hash": "ac59ebe37160ed0dfa835113d9b8498d9f09ceb179beaac4002f036b9467c963"
  },
  "kernelspec": {
   "display_name": "Python 3.9.5 64-bit",
   "language": "python",
   "name": "python3"
  },
  "language_info": {
   "codemirror_mode": {
    "name": "ipython",
    "version": 3
   },
   "file_extension": ".py",
   "mimetype": "text/x-python",
   "name": "python",
   "nbconvert_exporter": "python",
   "pygments_lexer": "ipython3",
   "version": "3.9.5"
  },
  "orig_nbformat": 4
 },
 "nbformat": 4,
 "nbformat_minor": 2
}
