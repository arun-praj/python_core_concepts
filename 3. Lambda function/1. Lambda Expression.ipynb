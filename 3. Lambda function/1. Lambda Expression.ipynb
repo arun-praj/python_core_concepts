{
 "cells": [
  {
   "cell_type": "markdown",
   "metadata": {},
   "source": [
    "# Lambda Expressions\n",
    "\n",
    "It is simply another way of creating function.\n",
    "Also known as anonymous function. function that dont have name\n",
    "\n",
    "```\n",
    "    lambda [parameter list] : expression\n",
    "```\n",
    "\n",
    "The body of lambda is limited to a single expression\n",
    "    ie. no assignment, no annotation, \n",
    "    dont split line while using lambda function\n"
   ]
  },
  {
   "cell_type": "code",
   "execution_count": 3,
   "metadata": {},
   "outputs": [
    {
     "name": "stdout",
     "output_type": "stream",
     "text": [
      "<class 'function'>\n"
     ]
    }
   ],
   "source": [
    "# eg:\n",
    "lambda x: x**2\n",
    "lambda x,y: x+y\n",
    "\n",
    "myfunc = lambda: 'Hello'\n",
    "\n",
    "print(type(myfunc))"
   ]
  },
  {
   "cell_type": "code",
   "execution_count": 4,
   "metadata": {},
   "outputs": [
    {
     "data": {
      "text/plain": [
       "4"
      ]
     },
     "execution_count": 4,
     "metadata": {},
     "output_type": "execute_result"
    }
   ],
   "source": [
    "def myfunc(a,fn):\n",
    "    return fn(a)\n",
    "\n",
    "myfunc(2, lambda x:x**2)"
   ]
  }
 ],
 "metadata": {
  "interpreter": {
   "hash": "ac59ebe37160ed0dfa835113d9b8498d9f09ceb179beaac4002f036b9467c963"
  },
  "kernelspec": {
   "display_name": "Python 3.9.5 64-bit",
   "language": "python",
   "name": "python3"
  },
  "language_info": {
   "codemirror_mode": {
    "name": "ipython",
    "version": 3
   },
   "file_extension": ".py",
   "mimetype": "text/x-python",
   "name": "python",
   "nbconvert_exporter": "python",
   "pygments_lexer": "ipython3",
   "version": "3.9.5"
  },
  "orig_nbformat": 4
 },
 "nbformat": 4,
 "nbformat_minor": 2
}
