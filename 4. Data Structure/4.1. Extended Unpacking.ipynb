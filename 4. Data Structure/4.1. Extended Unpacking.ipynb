{
 "cells": [
  {
   "cell_type": "markdown",
   "metadata": {},
   "source": [
    "# * vs **\n",
    "\n",
    "- '*' is used for list, tuple unpacking\n",
    "- '**' is used for dict,set unpacking\n"
   ]
  },
  {
   "cell_type": "markdown",
   "metadata": {},
   "source": [
    "## The use case of *"
   ]
  },
  {
   "cell_type": "markdown",
   "metadata": {},
   "source": [
    "If we donot want to unpack every single item in an iterable"
   ]
  },
  {
   "cell_type": "code",
   "execution_count": 6,
   "metadata": {},
   "outputs": [
    {
     "name": "stdout",
     "output_type": "stream",
     "text": [
      "a = 1\n",
      "b = [2, 3, 4]\n"
     ]
    }
   ],
   "source": [
    "# For example we might want to unpack first element in list\n",
    "l = [1,2,3,4]\n",
    "a,*b = l\n",
    "print(f'a = {a}')\n",
    "print(f'b = {b}')\n",
    "# we can achieve this by slicing\n",
    "## a = l[0]\n",
    "## b = b[1:]"
   ]
  },
  {
   "cell_type": "code",
   "execution_count": 9,
   "metadata": {},
   "outputs": [
    {
     "name": "stdout",
     "output_type": "stream",
     "text": [
      "a = [1, 2, 3]\n",
      "b = 4\n",
      "4\n"
     ]
    }
   ],
   "source": [
    "# we might want only want last element\n",
    "*a,b = l\n",
    "print(f'a = {a}')\n",
    "print(f'b = {b}')\n",
    "\n",
    "## by slicing\n",
    "# b=l[-1]\n",
    "# a=l[:-1]\n"
   ]
  },
  {
   "cell_type": "code",
   "execution_count": 21,
   "metadata": {},
   "outputs": [
    {
     "name": "stdout",
     "output_type": "stream",
     "text": [
      "['y', ' ', 'n', 'a', 'm', 'e', ' ', 'i', 's', ' ', 'a', 'r', 'u']\n"
     ]
    }
   ],
   "source": [
    "a,b,*c,d=[1,2,3,4,5,6,7,8]\n",
    "a,*b,c = 'My name is arun'\n",
    "print(b)"
   ]
  },
  {
   "cell_type": "code",
   "execution_count": 10,
   "metadata": {},
   "outputs": [
    {
     "data": {
      "text/plain": [
       "[1, 2, 3, 4, 3, 4, 5, 6]"
      ]
     },
     "execution_count": 10,
     "metadata": {},
     "output_type": "execute_result"
    }
   ],
   "source": [
    "l1 = [1,2,3,4]\n",
    "l2 = [3,4,5,6]\n",
    "\n",
    "l3 = [*l1,*l2]\n",
    "l3"
   ]
  },
  {
   "cell_type": "code",
   "execution_count": 13,
   "metadata": {},
   "outputs": [
    {
     "data": {
      "text/plain": [
       "{'h', 'p', 't', 'y'}"
      ]
     },
     "execution_count": 13,
     "metadata": {},
     "output_type": "execute_result"
    }
   ],
   "source": [
    "l1= {'p':1,'y':2}\n",
    "l2 = {'t':3,'h':4}\n",
    "\n",
    "l3 = {*l1,*l2} #only keys\n",
    "l3\n"
   ]
  },
  {
   "cell_type": "markdown",
   "metadata": {},
   "source": [
    "## The use case of **\n",
    "\n",
    "'*' can be used for dict to but doesnt make sense\n"
   ]
  },
  {
   "cell_type": "markdown",
   "metadata": {},
   "source": [
    "To create single collection"
   ]
  },
  {
   "cell_type": "code",
   "execution_count": 19,
   "metadata": {},
   "outputs": [
    {
     "name": "stdout",
     "output_type": "stream",
     "text": [
      "{'p': 1, 'y': 2, 't': 3, 'h': 4}\n",
      "['p', 'y', 't', 'h']\n"
     ]
    }
   ],
   "source": [
    "l1= {'p':1,'y':2}\n",
    "l2 = {'t':3,'h':4}\n",
    "\n",
    "l3 = {**l1,**l2} # keys and value\n",
    "l4 = [*l1,*l2] #only keys\n",
    "print(l3)\n",
    "print(l4)"
   ]
  },
  {
   "cell_type": "code",
   "execution_count": 20,
   "metadata": {},
   "outputs": [
    {
     "data": {
      "text/plain": [
       "{'p': 1, 'y': 2, 't': 3, 'h': 4, 'o': 5, 'n': 6}"
      ]
     },
     "execution_count": 20,
     "metadata": {},
     "output_type": "execute_result"
    }
   ],
   "source": [
    "{**l3,'o':5,'n':6}"
   ]
  },
  {
   "cell_type": "markdown",
   "metadata": {},
   "source": [
    "## Nested unpacking"
   ]
  },
  {
   "cell_type": "code",
   "execution_count": 23,
   "metadata": {},
   "outputs": [
    {
     "name": "stdout",
     "output_type": "stream",
     "text": [
      "1 [2, 3] 4 5\n"
     ]
    }
   ],
   "source": [
    "l=[1,2,3,[4,5]]\n",
    "\n",
    "a,*b,(c,d) = l\n",
    "print(a,b,c,d)  "
   ]
  },
  {
   "cell_type": "code",
   "execution_count": 24,
   "metadata": {},
   "outputs": [
    {
     "name": "stdout",
     "output_type": "stream",
     "text": [
      "1 [2, 3] p ['y', 't', 'h', 'o', 'n']\n"
     ]
    }
   ],
   "source": [
    "a,*b,(c,*d) = [1,2,3,'python']\n",
    "print(a,b,c,d)"
   ]
  }
 ],
 "metadata": {
  "interpreter": {
   "hash": "ac59ebe37160ed0dfa835113d9b8498d9f09ceb179beaac4002f036b9467c963"
  },
  "kernelspec": {
   "display_name": "Python 3.9.5 64-bit",
   "language": "python",
   "name": "python3"
  },
  "language_info": {
   "codemirror_mode": {
    "name": "ipython",
    "version": 3
   },
   "file_extension": ".py",
   "mimetype": "text/x-python",
   "name": "python",
   "nbconvert_exporter": "python",
   "pygments_lexer": "ipython3",
   "version": "3.9.5"
  },
  "orig_nbformat": 4
 },
 "nbformat": 4,
 "nbformat_minor": 2
}
