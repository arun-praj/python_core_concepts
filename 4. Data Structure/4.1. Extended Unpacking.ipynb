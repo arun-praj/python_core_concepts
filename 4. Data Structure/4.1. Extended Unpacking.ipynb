{
 "cells": [
  {
   "cell_type": "markdown",
   "metadata": {},
   "source": [
    "# * vs **\n",
    "\n",
    "- '*' is used for list, tuple, set unpacking\n",
    "- '**' is used for dict unpacking\n"
   ]
  },
  {
   "cell_type": "markdown",
   "metadata": {},
   "source": [
    "## The use case of *"
   ]
  },
  {
   "cell_type": "markdown",
   "metadata": {},
   "source": [
    "If we donot want to unpack every single item in an iterable"
   ]
  },
  {
   "cell_type": "code",
   "execution_count": 6,
   "metadata": {},
   "outputs": [
    {
     "name": "stdout",
     "output_type": "stream",
     "text": [
      "a = 1\n",
      "b = [2, 3, 4]\n"
     ]
    }
   ],
   "source": [
    "# For example we might want to unpack first element in list\n",
    "l = [1,2,3,4]\n",
    "a,*b = l\n",
    "print(f'a = {a}')\n",
    "print(f'b = {b}')\n",
    "# we can achieve this by slicing\n",
    "## a = l[0]\n",
    "## b = b[1:]"
   ]
  },
  {
   "cell_type": "code",
   "execution_count": 9,
   "metadata": {},
   "outputs": [
    {
     "name": "stdout",
     "output_type": "stream",
     "text": [
      "a = [1, 2, 3]\n",
      "b = 4\n",
      "4\n"
     ]
    }
   ],
   "source": [
    "# we might want only want last element\n",
    "*a,b = l\n",
    "print(f'a = {a}')\n",
    "print(f'b = {b}')\n",
    "\n",
    "## by slicing\n",
    "# b=l[-1]\n",
    "# a=l[:-1]\n"
   ]
  },
  {
   "cell_type": "code",
   "execution_count": null,
   "metadata": {},
   "outputs": [],
   "source": [
    "a,b,*c,d=[1,2,3,4,5,6,7,8]\n",
    "a,*b,c = 'My name is arun'"
   ]
  },
  {
   "cell_type": "markdown",
   "metadata": {},
   "source": [
    "l1 = [1,2,3,4]\n",
    "l2 = [3,4,5,6]"
   ]
  }
 ],
 "metadata": {
  "interpreter": {
   "hash": "ac59ebe37160ed0dfa835113d9b8498d9f09ceb179beaac4002f036b9467c963"
  },
  "kernelspec": {
   "display_name": "Python 3.9.5 64-bit",
   "language": "python",
   "name": "python3"
  },
  "language_info": {
   "codemirror_mode": {
    "name": "ipython",
    "version": 3
   },
   "file_extension": ".py",
   "mimetype": "text/x-python",
   "name": "python",
   "nbconvert_exporter": "python",
   "pygments_lexer": "ipython3",
   "version": "3.9.5"
  },
  "orig_nbformat": 4
 },
 "nbformat": 4,
 "nbformat_minor": 2
}
