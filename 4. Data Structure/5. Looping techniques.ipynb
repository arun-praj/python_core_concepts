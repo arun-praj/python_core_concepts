{
 "cells": [
  {
   "cell_type": "markdown",
   "metadata": {},
   "source": [
    "# Looping techniques"
   ]
  },
  {
   "cell_type": "markdown",
   "metadata": {},
   "source": [
    "Only two types of loop in python\n",
    "1. For (actually use infinite while loop under the hood)\n",
    "2. while"
   ]
  },
  {
   "cell_type": "markdown",
   "metadata": {},
   "source": [
    "### 1. Enumerate\n",
    "\n",
    "```\n",
    "enumerate(iterables,start=0)\n",
    "```\n",
    "Looping through the list using enumerate function returs tuple containing cound and vaue. By default start = 0\n"
   ]
  },
  {
   "cell_type": "code",
   "execution_count": 4,
   "metadata": {},
   "outputs": [
    {
     "name": "stdout",
     "output_type": "stream",
     "text": [
      "(0, 'r')\n",
      "(1, 'g')\n",
      "(2, 'b')\n",
      "0 = a\n",
      "1 = r\n",
      "2 = u\n",
      "3 = n\n"
     ]
    }
   ],
   "source": [
    "colors = 'r','g','b'\n",
    "for color in enumerate(colors):\n",
    "    print(color)\n",
    "\n",
    "# with tuple unpacking\n",
    "name = 'arun'\n",
    "for idx,letter in enumerate(name):\n",
    "    print(f'{idx} = {letter}')"
   ]
  },
  {
   "cell_type": "markdown",
   "metadata": {},
   "source": [
    "### 2. Zip()\n",
    "\n",
    "Looping over two iterables at the same time.\n",
    "Returns tuple with ith element from each iterables."
   ]
  },
  {
   "cell_type": "code",
   "execution_count": 6,
   "metadata": {},
   "outputs": [
    {
     "name": "stdout",
     "output_type": "stream",
     "text": [
      "1 a\n",
      "2 b\n",
      "3 c\n"
     ]
    }
   ],
   "source": [
    "l1,l2 = [1,2,3],['a','b','c']\n",
    "\n",
    "for a,b in zip(l1,l2):\n",
    "    print(a,b)"
   ]
  },
  {
   "cell_type": "markdown",
   "metadata": {},
   "source": [
    "### 3. itertools.zip_longest()\n",
    "\n",
    "same as zip. But in zip the sequence stops if any one list is exhusted "
   ]
  },
  {
   "cell_type": "code",
   "execution_count": 7,
   "metadata": {},
   "outputs": [
    {
     "name": "stdout",
     "output_type": "stream",
     "text": [
      "('r', 1)\n",
      "('b', 2)\n",
      "('b', 3)\n",
      "(None, 4)\n",
      "(None, 5)\n"
     ]
    }
   ],
   "source": [
    "from itertools import zip_longest\n",
    "\n",
    "colors = ['r','b','b']\n",
    "roll = [1,2,3,4,5]\n",
    "for i in zip_longest(colors,roll):\n",
    "    print(i)"
   ]
  },
  {
   "cell_type": "markdown",
   "metadata": {},
   "source": [
    "### 4. sorted()\n",
    "returns a sorted list from items in iterable\n"
   ]
  },
  {
   "cell_type": "code",
   "execution_count": 17,
   "metadata": {},
   "outputs": [
    {
     "name": "stdout",
     "output_type": "stream",
     "text": [
      "A\n",
      "Z\n",
      "a\n",
      "b\n",
      "c\n",
      "d\n",
      "\n",
      "\n",
      "a\n",
      "A\n",
      "b\n",
      "c\n",
      "d\n",
      "Z\n",
      "{'name': 'aman'}\n",
      "{'name': 'arun'}\n",
      "{'name': 'barun'}\n",
      "{'name': 'zenish'}\n"
     ]
    }
   ],
   "source": [
    "names = ['a','c','A','b','Z','d']\n",
    "for i in sorted(names):\n",
    "    print(i) #prints capital letter first then small letters\n",
    "\n",
    "# fix\n",
    "print('\\n')\n",
    "for name in sorted(names,key=lambda x:x.upper()):\n",
    "    print(name)\n",
    "\n",
    "# sort dist based on values\n",
    "dict = [{\n",
    "    \"name\":\"arun\"\n",
    "},\n",
    "{\n",
    "    \"name\":\"zenish\"\n",
    "},\n",
    "{\n",
    "    \"name\":\"aman\"\n",
    "},\n",
    "{\n",
    "    \"name\":\"barun\"\n",
    "}\n",
    "]\n",
    "\n",
    "for i in sorted(dict,key=lambda x: x['name']):\n",
    "    print(i)"
   ]
  },
  {
   "cell_type": "markdown",
   "metadata": {},
   "source": []
  },
  {
   "cell_type": "markdown",
   "metadata": {},
   "source": [
    "### 5. reverse()"
   ]
  },
  {
   "cell_type": "code",
   "execution_count": 19,
   "metadata": {},
   "outputs": [
    {
     "name": "stdout",
     "output_type": "stream",
     "text": [
      "b\n",
      "b\n",
      "r\n"
     ]
    }
   ],
   "source": [
    "for i in reversed(colors):\n",
    "    print(i)"
   ]
  }
 ],
 "metadata": {
  "interpreter": {
   "hash": "ac59ebe37160ed0dfa835113d9b8498d9f09ceb179beaac4002f036b9467c963"
  },
  "kernelspec": {
   "display_name": "Python 3.9.5 64-bit",
   "language": "python",
   "name": "python3"
  },
  "language_info": {
   "codemirror_mode": {
    "name": "ipython",
    "version": 3
   },
   "file_extension": ".py",
   "mimetype": "text/x-python",
   "name": "python",
   "nbconvert_exporter": "python",
   "pygments_lexer": "ipython3",
   "version": "3.9.5"
  },
  "orig_nbformat": 4
 },
 "nbformat": 4,
 "nbformat_minor": 2
}
