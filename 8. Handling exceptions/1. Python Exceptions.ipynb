{
 "cells": [
  {
   "cell_type": "markdown",
   "metadata": {},
   "source": [
    "# What are exceptions?\n",
    "\n",
    "They are object. Instances of some class\n",
    "\n",
    "Exception is raised that trigger special execution propagation workflow\n",
    "\n",
    "So we intercept the workflow which is known as exception Handling\n",
    "\n",
    "> \"It is easier to ask for forgiveness than it is to get permission\""
   ]
  },
  {
   "cell_type": "markdown",
   "metadata": {},
   "source": [
    "A call stack is maintained in python.\n",
    "So if a exception occurs in any of the call stack. It first propagate the exception into next call stack\n",
    "The excection stops.\n",
    "\n",
    "So if we dont handle exception the execution stops. So to prevent this exception handeling is required.\n",
    "- This stack can be traced"
   ]
  },
  {
   "cell_type": "code",
   "execution_count": null,
   "metadata": {},
   "outputs": [],
   "source": [
    "# syntax\n",
    "try:\n",
    "    # code to protect from some potential exceptions // This code should be as short as possible\n",
    "except: <ExceptionType> as ex:\n",
    "    #  Code that will run if that spicified <ExceptionType> Occurs\n",
    "except: #bare exception, catches any exception, usually not good because then we will not know what error has occured in our try block\n",
    "finally:\n",
    "    # Code that will run whether the exception occur or not\n",
    "else:\n",
    "    # cdoe that execute if try terminates normally"
   ]
  },
  {
   "cell_type": "code",
   "execution_count": 3,
   "metadata": {},
   "outputs": [
    {
     "name": "stdout",
     "output_type": "stream",
     "text": [
      "the divisor cannot be zero\n"
     ]
    }
   ],
   "source": [
    "# eg:\n",
    "try: # required\n",
    "    a = 0\n",
    "    out = 100/a\n",
    "except ZeroDivisionError:# may apper 0 or more times\n",
    "    print('the divisor cannot be zero')\n",
    "else: # 0  or once\n",
    "    print(out)"
   ]
  },
  {
   "cell_type": "markdown",
   "metadata": {},
   "source": [
    "#### The excetion are not usually errors. "
   ]
  },
  {
   "cell_type": "markdown",
   "metadata": {},
   "source": [
    "For an example  \n",
    "```StopIteration``` exception is raised when the iteration is completed"
   ]
  },
  {
   "cell_type": "markdown",
   "metadata": {},
   "source": [
    "Two main category of exceptions\n",
    "\n",
    "1. Compilation error -> SyntaxError\n",
    "2. Execution error -> ValueError, KeyError, DivisionByZero, StopIteration"
   ]
  },
  {
   "cell_type": "markdown",
   "metadata": {},
   "source": [
    "These exception are inherited from BaseException Class or some other sub-classes of BaseExcption.\n",
    "Usually not a good idea to inherite from BaseException class because it will be harder to debug."
   ]
  },
  {
   "cell_type": "markdown",
   "metadata": {},
   "source": [
    "#### Heirarchy\n",
    "```\n",
    "BaseException\n",
    "   - SystemExit  (#raised when you call sys.exit())\n",
    "   - KeyBoardInterrupt (raised by Ctrl+C)\n",
    "   - GeneratorExit (when generator is closed)\n",
    "   - Exception (everything else)\n",
    "```"
   ]
  },
  {
   "cell_type": "markdown",
   "metadata": {},
   "source": [
    "### If we donot know about current exception is then we can run ```sys.exec_info()```"
   ]
  },
  {
   "cell_type": "markdown",
   "metadata": {},
   "source": [
    "### Raising exception\n",
    "\n",
    "```raise``` keyword is used.\n",
    "Must be an instance of BaseException"
   ]
  },
  {
   "cell_type": "code",
   "execution_count": 5,
   "metadata": {},
   "outputs": [
    {
     "ename": "KeyError",
     "evalue": "",
     "output_type": "error",
     "traceback": [
      "\u001b[1;31m---------------------------------------------------------------------------\u001b[0m",
      "\u001b[1;31mKeyError\u001b[0m                                  Traceback (most recent call last)",
      "\u001b[1;32mc:\\Users\\arun.prajapati\\OneDrive - Cotiviti\\Desktop\\python_core_concepts\\8. Handling exceptions\\1. Python Exceptions.ipynb Cell 12'\u001b[0m in \u001b[0;36m<cell line: 1>\u001b[1;34m()\u001b[0m\n\u001b[0;32m      <a href='vscode-notebook-cell:/c%3A/Users/arun.prajapati/OneDrive%20-%20Cotiviti/Desktop/python_core_concepts/8.%20Handling%20exceptions/1.%20Python%20Exceptions.ipynb#ch0000005?line=4'>5</a>\u001b[0m     \u001b[39mraise\u001b[39;00m \u001b[39mTypeError\u001b[39;00m()\n\u001b[0;32m      <a href='vscode-notebook-cell:/c%3A/Users/arun.prajapati/OneDrive%20-%20Cotiviti/Desktop/python_core_concepts/8.%20Handling%20exceptions/1.%20Python%20Exceptions.ipynb#ch0000005?line=5'>6</a>\u001b[0m \u001b[39mexcept\u001b[39;00m \u001b[39mTypeError\u001b[39;00m:\n\u001b[1;32m----> <a href='vscode-notebook-cell:/c%3A/Users/arun.prajapati/OneDrive%20-%20Cotiviti/Desktop/python_core_concepts/8.%20Handling%20exceptions/1.%20Python%20Exceptions.ipynb#ch0000005?line=6'>7</a>\u001b[0m     \u001b[39mraise\u001b[39;00m \u001b[39mKeyError\u001b[39;00m() \u001b[39mfrom\u001b[39;00m \u001b[39mNone\u001b[39m\n",
      "\u001b[1;31mKeyError\u001b[0m: "
     ]
    }
   ],
   "source": [
    "try:\n",
    "    raise ValueError()\n",
    "except ValueError:\n",
    "    try:\n",
    "        raise TypeError()\n",
    "    except TypeError:\n",
    "        raise KeyError() from None"
   ]
  }
 ],
 "metadata": {
  "interpreter": {
   "hash": "ac59ebe37160ed0dfa835113d9b8498d9f09ceb179beaac4002f036b9467c963"
  },
  "kernelspec": {
   "display_name": "Python 3.9.5 64-bit",
   "language": "python",
   "name": "python3"
  },
  "language_info": {
   "codemirror_mode": {
    "name": "ipython",
    "version": 3
   },
   "file_extension": ".py",
   "mimetype": "text/x-python",
   "name": "python",
   "nbconvert_exporter": "python",
   "pygments_lexer": "ipython3",
   "version": "3.9.5"
  },
  "orig_nbformat": 4
 },
 "nbformat": 4,
 "nbformat_minor": 2
}
