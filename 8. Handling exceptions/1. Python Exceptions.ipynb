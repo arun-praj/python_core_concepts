{
 "cells": [
  {
   "cell_type": "markdown",
   "metadata": {},
   "source": [
    "# What are exceptions?\n",
    "\n",
    "They are object. Instances of some class\n",
    "\n",
    "Exception is raised that trigger special execution propagation workflow\n",
    "\n",
    "So we intercept the workflow which is known as exception Handling"
   ]
  },
  {
   "cell_type": "code",
   "execution_count": null,
   "metadata": {},
   "outputs": [],
   "source": []
  }
 ],
 "metadata": {
  "language_info": {
   "name": "python"
  },
  "orig_nbformat": 4
 },
 "nbformat": 4,
 "nbformat_minor": 2
}
