{
 "cells": [
  {
   "cell_type": "markdown",
   "metadata": {},
   "source": [
    "# Iterators\n",
    "\n",
    " - Iterators are object that can be iterated upon. \n",
    " - They are elegant way of implemented within for loop, comprehensions, generators etc but are hidden in plain sight."
   ]
  },
  {
   "cell_type": "markdown",
   "metadata": {},
   "source": [
    "##### Python built-in iterators -> ```zip(l1,l2),enumerate(l1),open('cars.csv')```\n",
    "##### Iterables -> ```range(18), dict.keys() or dict.values()```"
   ]
  },
  {
   "cell_type": "markdown",
   "metadata": {},
   "source": [
    "Iterator object must implement two special methods, ```__iter__()``` and ```__next__()```, collectively called iterator protocal."
   ]
  },
  {
   "cell_type": "code",
   "execution_count": 3,
   "metadata": {},
   "outputs": [
    {
     "name": "stdout",
     "output_type": "stream",
     "text": [
      "1\n",
      "2\n",
      "3\n",
      "4\n",
      "Iterable is exhusted\n"
     ]
    }
   ],
   "source": [
    "l = [1,2,3,4]\n",
    "myIter = iter(l) #create an instance of iter class that consist of __iter__ and __next__ methods.\n",
    "while True:\n",
    "    try:\n",
    "        element = myIter.__next__() #same as next(l) #calls next element\n",
    "        print(element)\n",
    "    except StopIteration:\n",
    "        print('Iterable is exhusted')\n",
    "        break"
   ]
  },
  {
   "cell_type": "markdown",
   "metadata": {},
   "source": [
    "### For loop is actually created using Infinite while loop (above example). So internally, for loop create an iterator object"
   ]
  },
  {
   "cell_type": "markdown",
   "metadata": {},
   "source": [
    "## Custom iterators"
   ]
  },
  {
   "cell_type": "code",
   "execution_count": 8,
   "metadata": {},
   "outputs": [
    {
     "name": "stdout",
     "output_type": "stream",
     "text": [
      "1\n",
      "2\n",
      "4\n",
      "8\n",
      "16\n",
      "32\n",
      "64\n",
      "128\n",
      "256\n",
      "512\n"
     ]
    }
   ],
   "source": [
    "class Square:\n",
    "    def __init__(self,max=0):\n",
    "        self.max = max\n",
    "        self._index = 0\n",
    "    \n",
    "    def __iter__(self):\n",
    "        return self\n",
    "    \n",
    "    def __next__(self):\n",
    "        if self._index >= self.max:\n",
    "            raise StopIteration\n",
    "        else:\n",
    "            result = 2**self._index\n",
    "            self._index += 1\n",
    "            return result\n",
    "\n",
    "squared_numbers_list = Square(10)\n",
    "\n",
    "i = iter(squared_numbers_list)\n",
    "\n",
    "\n",
    "while True:\n",
    "    try:\n",
    "        el = next(i)\n",
    "        print(el)\n",
    "    except StopIteration:\n",
    "        break\n"
   ]
  }
 ],
 "metadata": {
  "interpreter": {
   "hash": "ac59ebe37160ed0dfa835113d9b8498d9f09ceb179beaac4002f036b9467c963"
  },
  "kernelspec": {
   "display_name": "Python 3.9.5 64-bit",
   "language": "python",
   "name": "python3"
  },
  "language_info": {
   "codemirror_mode": {
    "name": "ipython",
    "version": 3
   },
   "file_extension": ".py",
   "mimetype": "text/x-python",
   "name": "python",
   "nbconvert_exporter": "python",
   "pygments_lexer": "ipython3",
   "version": "3.9.5"
  },
  "orig_nbformat": 4
 },
 "nbformat": 4,
 "nbformat_minor": 2
}
