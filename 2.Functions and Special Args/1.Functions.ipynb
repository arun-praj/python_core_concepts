{
 "cells": [
  {
   "cell_type": "markdown",
   "metadata": {},
   "source": [
    "# Functions\n",
    "A function in any programming language is a single block of code that perform specific task.\n",
    "\n",
    "PTR : In python the value is always passed by reference, ie, the memory address is passed between arguments and parameter.\n",
    "\n",
    "Types:\n",
    "- Build-ins\n",
    "- User-defined"
   ]
  },
  {
   "cell_type": "code",
   "execution_count": null,
   "metadata": {},
   "outputs": [],
   "source": [
    "def function_name(arg1,ar2):\n",
    "    \"\"\"docstring\"\"\"\n",
    "    #statements(s)\n",
    "    return ['expressions']"
   ]
  },
  {
   "cell_type": "markdown",
   "metadata": {},
   "source": [
    "## Local vs Golbal Varaibles\n",
    "\n",
    "### Local\n",
    "- Variables or parameters defined inside a function are called local variables as the scope is limited in function only.\n",
    "- Local variables cannot be used outside the function\n",
    "- Life of local variable ends with termination of execution of function.\n",
    "- The variable defined inside function can be made globel using key word 'global'"
   ]
  },
  {
   "cell_type": "code",
   "execution_count": 11,
   "metadata": {},
   "outputs": [
    {
     "name": "stdout",
     "output_type": "stream",
     "text": [
      "Local : {'born': 2000, 'today': 2022}\n"
     ]
    },
    {
     "data": {
      "text/plain": [
       "2044"
      ]
     },
     "execution_count": 11,
     "metadata": {},
     "output_type": "execute_result"
    }
   ],
   "source": [
    "def calc_age(born):\n",
    "    global age\n",
    "    today = 2022 #local\n",
    "    age = today-age #global\n",
    "    print(f'Local : {locals()}')\n",
    "calc_age(2000)\n",
    "\n",
    "globals()['age'] # return a dict of all global attributes and since age is in global scope we can acecss it by "
   ]
  },
  {
   "cell_type": "markdown",
   "metadata": {},
   "source": [
    "## Arguments vs Parameters\n",
    "\n",
    "These are just simantics. Its ok if you interchange the term, everyone will understand what you meant.\n"
   ]
  },
  {
   "cell_type": "code",
   "execution_count": 12,
   "metadata": {},
   "outputs": [],
   "source": [
    "def my_func(a,b): # here a and b are parameters\n",
    "    #code here \n",
    "    pass\n",
    "\n",
    "x,y = 1,2\n",
    "my_func(x,y) # here x and y are arguments"
   ]
  }
 ],
 "metadata": {
  "interpreter": {
   "hash": "ac59ebe37160ed0dfa835113d9b8498d9f09ceb179beaac4002f036b9467c963"
  },
  "kernelspec": {
   "display_name": "Python 3.9.5 64-bit",
   "language": "python",
   "name": "python3"
  },
  "language_info": {
   "codemirror_mode": {
    "name": "ipython",
    "version": 3
   },
   "file_extension": ".py",
   "mimetype": "text/x-python",
   "name": "python",
   "nbconvert_exporter": "python",
   "pygments_lexer": "ipython3",
   "version": "3.9.5"
  },
  "orig_nbformat": 4
 },
 "nbformat": 4,
 "nbformat_minor": 2
}
