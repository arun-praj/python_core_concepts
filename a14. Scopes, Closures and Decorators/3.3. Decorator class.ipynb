{
 "cells": [
  {
   "cell_type": "markdown",
   "metadata": {},
   "source": [
    "# Decorator class"
   ]
  },
  {
   "cell_type": "code",
   "execution_count": 9,
   "metadata": {},
   "outputs": [
    {
     "name": "stdout",
     "output_type": "stream",
     "text": [
      "Decorated function called:  1 and 2\n"
     ]
    },
    {
     "data": {
      "text/plain": "3"
     },
     "execution_count": 9,
     "metadata": {},
     "output_type": "execute_result"
    }
   ],
   "source": [
    "class Myclass:\n",
    "    def __init__(self,a,b):\n",
    "        self.a = a\n",
    "        self.b = b\n",
    "    \n",
    "    def __call__(self,fn):\n",
    "        def inner(*args,**kwargs):\n",
    "            print(f\"Decorated function called:  {self.a} and {self.b}\")\n",
    "            return fn(*args,**kwargs)\n",
    "        return inner\n",
    "\n",
    "\n",
    "@Myclass(1,2)\n",
    "def add(a,b):\n",
    "    return a+b\n",
    "add(1,2)\n",
    "\n",
    "# is same as\n",
    "\n",
    "# def add(a,b):\n",
    "#     return a+b\n",
    "# obj = Myclass(1,2)\n",
    "# inner = obj(add)\n",
    "# inner(1,2)\n"
   ]
  }
 ],
 "metadata": {
  "interpreter": {
   "hash": "aee8b7b246df8f9039afb4144a1f6fd8d2ca17a180786b69acc140d282b71a49"
  },
  "kernelspec": {
   "display_name": "Python 3.9.2 64-bit",
   "name": "python3"
  },
  "language_info": {
   "codemirror_mode": {
    "name": "ipython",
    "version": 3
   },
   "file_extension": ".py",
   "mimetype": "text/x-python",
   "name": "python",
   "nbconvert_exporter": "python",
   "pygments_lexer": "ipython3",
   "version": "3.9.2"
  },
  "orig_nbformat": 2
 },
 "nbformat": 4,
 "nbformat_minor": 2
}