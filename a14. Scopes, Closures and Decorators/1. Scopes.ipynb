{
 "cells": [
  {
   "cell_type": "markdown",
   "metadata": {},
   "source": [
    "# Scopes\n",
    "\n",
    "THe portion of code where that name is defined is called the laxical scope of that variable"
   ]
  },
  {
   "cell_type": "markdown",
   "metadata": {},
   "source": [
    "---"
   ]
  },
  {
   "cell_type": "markdown",
   "metadata": {},
   "source": [
    "# Global and local Scope\n",
    "\n",
    "1. Global scope is module scope. \n",
    "2. no concept of a truly global scopes except object such as True,False,None,dict,print\n",
    "3. You can use global to add a local namespace to global\n"
   ]
  },
  {
   "cell_type": "code",
   "execution_count": 1,
   "metadata": {},
   "outputs": [
    {
     "name": "stdout",
     "output_type": "stream",
     "text": [
      "100\n"
     ]
    }
   ],
   "source": [
    "a = 10\n",
    "def my_func():\n",
    "    global a # a is now a global namespace\n",
    "    a = 100\n",
    "my_func()\n",
    "print(a)\n"
   ]
  },
  {
   "cell_type": "markdown",
   "metadata": {},
   "source": [
    "# Non-local Scope"
   ]
  },
  {
   "cell_type": "code",
   "execution_count": 8,
   "metadata": {},
   "outputs": [
    {
     "name": "stdout",
     "output_type": "stream",
     "text": [
      "Outer func\n"
     ]
    }
   ],
   "source": [
    "def outer_func():\n",
    "    x = \"Outer func\"\n",
    "    def inner_func():\n",
    "        x = \"Inner func\"\n",
    "    inner_func()\n",
    "    print(x)\n",
    "\n",
    "outer_func()"
   ]
  },
  {
   "cell_type": "markdown",
   "metadata": {},
   "source": [
    "## We can modify variables defined in the outer func namespace by using 'nonlocal' \n",
    "## \"nonlocal' keyword searches for one level up enclosure.\n",
    "keyword."
   ]
  },
  {
   "cell_type": "code",
   "execution_count": 7,
   "metadata": {},
   "outputs": [
    {
     "name": "stdout",
     "output_type": "stream",
     "text": [
      "Inner func\n"
     ]
    }
   ],
   "source": [
    "def outer_func():\n",
    "    x = \"Outer func\"\n",
    "    def inner_func():\n",
    "        nonlocal x\n",
    "        x = \"Inner func\"\n",
    "    inner_func()\n",
    "    print(x)\n",
    "outer_func()"
   ]
  },
  {
   "cell_type": "markdown",
   "metadata": {},
   "source": [
    "Example 2"
   ]
  },
  {
   "cell_type": "code",
   "execution_count": 10,
   "metadata": {},
   "outputs": [
    {
     "name": "stdout",
     "output_type": "stream",
     "text": [
      "inner2\n",
      "inner2\n",
      "Outer\n"
     ]
    }
   ],
   "source": [
    "def outer():\n",
    "    x = \"Outer\"\n",
    "\n",
    "    def inner1():\n",
    "        x = \"inner1\"\n",
    "\n",
    "        def inner2():\n",
    "            nonlocal x\n",
    "            x = \"inner2\"\n",
    "            print(x)\n",
    "        inner2()\n",
    "        print(x)\n",
    "    \n",
    "    inner1()\n",
    "    print(x)\n",
    "\n",
    "outer()\n",
    "\n"
   ]
  }
 ],
 "metadata": {
  "interpreter": {
   "hash": "aee8b7b246df8f9039afb4144a1f6fd8d2ca17a180786b69acc140d282b71a49"
  },
  "kernelspec": {
   "display_name": "Python 3.9.2 64-bit",
   "name": "python3"
  },
  "language_info": {
   "name": "python",
   "version": ""
  },
  "orig_nbformat": 2
 },
 "nbformat": 4,
 "nbformat_minor": 2
}