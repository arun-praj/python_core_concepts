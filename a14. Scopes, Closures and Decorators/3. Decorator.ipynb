{
 "cells": [
  {
   "cell_type": "markdown",
   "metadata": {},
   "source": [
    "# Closure\n"
   ]
  },
  {
   "cell_type": "markdown",
   "metadata": {},
   "source": [
    "What are Closures in python??\n",
    "A closure is a nested function which has access to a free variable from an enclosing function that has finished its execution. Three characteristics of a Python closure are:\n",
    "it is a nested function\n",
    "it has access to a free variable in outer scope\n",
    "it is returned from the enclosing function"
   ]
  },
  {
   "cell_type": "markdown",
   "metadata": {},
   "source": [
    "# Decorators\n",
    "\n",
    "This is also called meta programming as a part of the program tries to modify another part of the program at compile time."
   ]
  },
  {
   "cell_type": "markdown",
   "metadata": {},
   "source": [
    "Decorators functions:\n",
    "1. takes a function as an argument\n",
    "2. returns a closure\n",
    "3. The closure usually accepts any number of arguments.(*args,**kwargs)\n",
    "4. runs some code in the inner function(closure)\n",
    "5. the closure functions calls the original function using the arguments passeed to the closure\n",
    "6. returns whatever is returned by that function call\n"
   ]
  },
  {
   "cell_type": "markdown",
   "metadata": {},
   "source": [
    "```python\n",
    "    def outer_function(fn): # fn is a free variable\n",
    "        def inner_function(*args,**kwargs):\n",
    "            # does something or decorate\n",
    "            return fn(*args,**kwargs)\n",
    "        return inner_function\n",
    "    \n",
    "    def add(x,y):\n",
    "        return x+y\n",
    "    fxn = outer_function(add)\n",
    "    result = fxn(1,2)\n",
    "```"
   ]
  },
  {
   "cell_type": "markdown",
   "metadata": {},
   "source": [
    "# @ Symbol"
   ]
  },
  {
   "cell_type": "code",
   "execution_count": 16,
   "metadata": {},
   "outputs": [],
   "source": [
    "# Decorator function\n",
    "def outer(fn):\n",
    "    def inner(*args,**kwargs):\n",
    "        print(f\"The inputs are {args}\")\n",
    "        if(kwargs):\n",
    "            print(f\"and {kwargs}\")\n",
    "        return fn(*args,**kwargs)\n",
    "    return inner\n",
    "\n"
   ]
  },
  {
   "cell_type": "code",
   "execution_count": 11,
   "metadata": {},
   "outputs": [
    {
     "name": "stdout",
     "output_type": "stream",
     "text": [
      "The inputs are (2, 3)\n",
      "sum:  5\n"
     ]
    }
   ],
   "source": [
    "def add(x,y):\n",
    "    return x+y\n",
    "\n",
    "add = outer(add)\n",
    "result = add(2,3)\n",
    "print(\"sum: \" ,result)"
   ]
  },
  {
   "cell_type": "markdown",
   "metadata": {},
   "source": [
    "## is same as "
   ]
  },
  {
   "cell_type": "code",
   "execution_count": 32,
   "metadata": {},
   "outputs": [
    {
     "name": "stdout",
     "output_type": "stream",
     "text": [
      "Decoration\n",
      "sum:  5\n"
     ]
    }
   ],
   "source": [
    "@outer\n",
    "def add(x,y):\n",
    "    return x+y\n",
    "result = add(2,3)\n",
    "print(\"sum: \" ,result)\n",
    "\n",
    "# @decorator\n",
    "# def ffxn():\n",
    "#     pass\n",
    "\n",
    "# is same as\n",
    "\n",
    "# ffxn = decorator(ffxn)\n",
    "\n",
    "#When we deocrate above add function the function name is changed to inner as it add now points to inner."
   ]
  },
  {
   "cell_type": "markdown",
   "metadata": {},
   "source": [
    "# Introspecting decorated function\n",
    "\n",
    "When we deocrate above add() function the function name is changed to inner as  add now points to inner."
   ]
  },
  {
   "cell_type": "code",
   "execution_count": 14,
   "metadata": {},
   "outputs": [
    {
     "data": {
      "text/plain": "'inner'"
     },
     "execution_count": 14,
     "metadata": {},
     "output_type": "execute_result"
    }
   ],
   "source": [
    "add.__name__"
   ]
  },
  {
   "cell_type": "markdown",
   "metadata": {},
   "source": [
    "But this is not useful for debuging as we might need the original as signature of the origin add() function.<br>\n",
    "So python has a built-in decorator that helps in this."
   ]
  },
  {
   "cell_type": "code",
   "execution_count": 31,
   "metadata": {},
   "outputs": [
    {
     "name": "stdout",
     "output_type": "stream",
     "text": [
      "add\n"
     ]
    }
   ],
   "source": [
    "from functools import wraps\n",
    "def outer(fn):\n",
    "    def inner(*args,**kwargs):\n",
    "        print(\"Decoration\")\n",
    "        return fn(*args,**kwargs)\n",
    "    inner = wraps(fn)(inner)\n",
    "    return inner\n",
    "    \n",
    "#or\n",
    "\n",
    "# def outer(fn):\n",
    "#     @wraps(fn)\n",
    "#     def inner(*args,**kwargs):\n",
    "#         print(\"Decoration\")\n",
    "#         return fn(*args,**kwargs)\n",
    "#     return inner\n",
    "\n",
    "@outer\n",
    "def add(x,y):\n",
    "    return x+y\n",
    "\n",
    "print(add.__name__) "
   ]
  }
 ],
 "metadata": {
  "interpreter": {
   "hash": "aee8b7b246df8f9039afb4144a1f6fd8d2ca17a180786b69acc140d282b71a49"
  },
  "kernelspec": {
   "display_name": "Python 3.9.2 64-bit",
   "name": "python3"
  },
  "language_info": {
   "codemirror_mode": {
    "name": "ipython",
    "version": 3
   },
   "file_extension": ".py",
   "mimetype": "text/x-python",
   "name": "python",
   "nbconvert_exporter": "python",
   "pygments_lexer": "ipython3",
   "version": "3.9.2"
  },
  "orig_nbformat": 2
 },
 "nbformat": 4,
 "nbformat_minor": 2
}