{
 "cells": [
  {
   "cell_type": "markdown",
   "metadata": {},
   "source": [
    "# Application of Decorators"
   ]
  },
  {
   "cell_type": "markdown",
   "metadata": {},
   "source": [
    "Timer, logger,stacked Decorators,memoization"
   ]
  },
  {
   "cell_type": "markdown",
   "metadata": {},
   "source": [
    "## Function Timer"
   ]
  },
  {
   "cell_type": "code",
   "execution_count": 40,
   "metadata": {},
   "outputs": [
    {
     "name": "stdout",
     "output_type": "stream",
     "text": [
      "add((200, 300, 1000), {}) took 3.880399981426308e-05s to run.\n",
      "result:  500\n"
     ]
    }
   ],
   "source": [
    "def timer(fn):\n",
    "    from time import perf_counter\n",
    "    from functools import wraps\n",
    "\n",
    "    @wraps(fn)\n",
    "    def inner(*args,**kwargs):\n",
    "        start = perf_counter()\n",
    "        result = fn(*args,**kwargs)\n",
    "        end  = perf_counter()\n",
    "        ellapse = end - start\n",
    "\n",
    "        args_ = [str(s) for s in args]\n",
    "        kwargs_ = [f\"{key} = {value}\" for key,value in kwargs.items()]\n",
    "        print(f'{fn.__name__}{args,kwargs} took {ellapse}s to run.')\n",
    "        return result\n",
    "    \n",
    "    return inner\n",
    "\n",
    "@timer\n",
    "def add(x,y,repetition = 10_000_000):\n",
    "    for i in range(repetition):\n",
    "        x+y\n",
    "    return x+y\n",
    "\n",
    "result = add(200,300,1000)\n",
    "print(\"result: \", result)\n"
   ]
  },
  {
   "cell_type": "markdown",
   "metadata": {},
   "source": [
    "## Logger"
   ]
  },
  {
   "cell_type": "code",
   "execution_count": 49,
   "metadata": {},
   "outputs": [
    {
     "name": "stdout",
     "output_type": "stream",
     "text": [
      "[2021-05-16 16:38:57.784657+00:00] :  hell(('My name is arun',), {})\n"
     ]
    }
   ],
   "source": [
    "# u can use this as module\n",
    "def logger(fn):\n",
    "    from functools import wraps\n",
    "    from datetime import datetime,timezone\n",
    "\n",
    "    @wraps(fn)\n",
    "    def inner(*args,**kwargs):\n",
    "        run_dt = datetime.now(timezone.utc)\n",
    "        result = fn(*args,**kwargs)\n",
    "        print(f\"[{run_dt}] :  {fn.__name__}{args,kwargs}\") # or write into database\n",
    "        return result\n",
    "\n",
    "    return inner\n",
    "\n",
    "@logger\n",
    "def hell(a):\n",
    "    pass\n",
    "\n",
    "hell(\"My name is arun\")"
   ]
  },
  {
   "cell_type": "markdown",
   "metadata": {},
   "source": [
    "## Stacked decorator\n",
    "The order matters. \n"
   ]
  },
  {
   "cell_type": "code",
   "execution_count": 55,
   "metadata": {},
   "outputs": [
    {
     "name": "stdout",
     "output_type": "stream",
     "text": [
      "my_special_func((1, 2), {}) took 6.419995770556852e-07s to run.\n",
      "[2021-05-16 16:55:30.206308+00:00] :  my_special_func((1, 2), {})\n",
      "2\n"
     ]
    }
   ],
   "source": [
    "@logger\n",
    "@timer\n",
    "def my_special_func(x,y):\n",
    "    return x*y \n",
    "print(my_special_func(1,2))\n",
    "\n",
    "# same as\n",
    "\n",
    "# my_special_func = logger(timer(my_special_func))\n",
    "# print(my_special_func(2,3))\n",
    "\n",
    "#logger runs first then the timer"
   ]
  }
 ],
 "metadata": {
  "interpreter": {
   "hash": "aee8b7b246df8f9039afb4144a1f6fd8d2ca17a180786b69acc140d282b71a49"
  },
  "kernelspec": {
   "display_name": "Python 3.9.2 64-bit",
   "name": "python3"
  },
  "language_info": {
   "codemirror_mode": {
    "name": "ipython",
    "version": 3
   },
   "file_extension": ".py",
   "mimetype": "text/x-python",
   "name": "python",
   "nbconvert_exporter": "python",
   "pygments_lexer": "ipython3",
   "version": "3.9.2"
  },
  "orig_nbformat": 2
 },
 "nbformat": 4,
 "nbformat_minor": 2
}