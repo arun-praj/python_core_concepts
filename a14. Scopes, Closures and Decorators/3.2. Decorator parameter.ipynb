{
 "cells": [
  {
   "cell_type": "markdown",
   "metadata": {},
   "source": [
    "# Decorator parameters"
   ]
  },
  {
   "cell_type": "code",
   "execution_count": 15,
   "metadata": {},
   "outputs": [
    {
     "name": "stdout",
     "output_type": "stream",
     "text": [
      "Average time for 10000000 repetition is:  1.3702073125846255e-07s\n"
     ]
    }
   ],
   "source": [
    "from functools import wraps\n",
    "\n",
    "def timed(reps): # factory function\n",
    "    #reps is a free variable\n",
    "    def decorator_(fn):\n",
    "        from time import perf_counter\n",
    "        @wraps(fn)\n",
    "        def inner(*args,**kwargs):\n",
    "            total_elapsed = 0\n",
    "            for i in range(reps):\n",
    "                start = perf_counter()\n",
    "                result = fn(*args,**kwargs)\n",
    "                end = perf_counter()\n",
    "                total_elapsed += end-start\n",
    "            avg = total_elapsed/reps\n",
    "            print(f\"Average time for {reps} repetition is:  {avg}s\")\n",
    "            return result    \n",
    "        return inner\n",
    "    return decorator_\n",
    "\n",
    "@timed(10000000)\n",
    "def a_func():\n",
    "    pass\n",
    "a_func()\n",
    "\n",
    "# is same as\n",
    "\n",
    "# a_func = timed(1)(a_func)\n",
    "# a_func()\n"
   ]
  },
  {
   "cell_type": "markdown",
   "metadata": {},
   "source": [
    "here @timed is a decorator factory function not a decorator as it returns a decorator."
   ]
  }
 ],
 "metadata": {
  "interpreter": {
   "hash": "aee8b7b246df8f9039afb4144a1f6fd8d2ca17a180786b69acc140d282b71a49"
  },
  "kernelspec": {
   "display_name": "Python 3.9.2 64-bit",
   "name": "python3"
  },
  "language_info": {
   "codemirror_mode": {
    "name": "ipython",
    "version": 3
   },
   "file_extension": ".py",
   "mimetype": "text/x-python",
   "name": "python",
   "nbconvert_exporter": "python",
   "pygments_lexer": "ipython3",
   "version": "3.9.2"
  },
  "orig_nbformat": 2
 },
 "nbformat": 4,
 "nbformat_minor": 2
}