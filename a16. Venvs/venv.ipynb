{
 "cells": [
  {
   "cell_type": "markdown",
   "metadata": {},
   "source": [
    "## VNEV\n",
    "\n",
    "- creates light weight virtual environmet with their own site directories.\n",
    "- Each vnev as its own python binary (matches the version of binary that was used to create this env)\n",
    "- each env can have its own independednt set of installed packages\n",
    "\n",
    "(Personally I use pipenv rather than venv beacuse it maintain pipfile and lockfile for dependancy management)"
   ]
  },
  {
   "cell_type": "markdown",
   "metadata": {},
   "source": [
    "### Creating venv"
   ]
  },
  {
   "cell_type": "markdown",
   "metadata": {},
   "source": [
    "```bash\n",
    "    python3 -m venv /path/to/venv\n",
    "```\n",
    "common name for target directory is .env"
   ]
  },
  {
   "cell_type": "markdown",
   "metadata": {},
   "source": [
    "### Activating script\n",
    "1. bash\n",
    "> source .env/bin/activate\n",
    "\n",
    "2. windows\n",
    ">.venv\\Scripts\\activate"
   ]
  },
  {
   "cell_type": "markdown",
   "metadata": {},
   "source": [
    "### Deactivating\n",
    "\n",
    "> deactivate"
   ]
  },
  {
   "cell_type": "code",
   "execution_count": null,
   "metadata": {},
   "outputs": [],
   "source": []
  }
 ],
 "metadata": {
  "language_info": {
   "name": "python"
  },
  "orig_nbformat": 4
 },
 "nbformat": 4,
 "nbformat_minor": 2
}
