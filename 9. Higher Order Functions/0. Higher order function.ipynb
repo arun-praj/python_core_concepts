{
 "cells": [
  {
   "cell_type": "markdown",
   "metadata": {},
   "source": [
    "# Higher Order Function"
   ]
  },
  {
   "cell_type": "markdown",
   "metadata": {},
   "source": [
    "A function that takes function and/or returns a function is called HOF.\n",
    "\n",
    "eg: sorted, map, reduce, filter, zip"
   ]
  }
 ],
 "metadata": {
  "language_info": {
   "name": "python"
  }
 },
 "nbformat": 4,
 "nbformat_minor": 2
}
