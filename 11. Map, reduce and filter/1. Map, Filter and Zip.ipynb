{
 "cells": [
  {
   "cell_type": "markdown",
   "metadata": {},
   "source": [
    "- In python , map,Filter can be implemented by List comprehension.\n",
    "\n",
    "- Using list comprehension is much cleaner than map, reduce, also the combination of map and reduce can be achieved much easily using list comprehension."
   ]
  },
  {
   "cell_type": "markdown",
   "metadata": {},
   "source": [
    "# Map"
   ]
  },
  {
   "cell_type": "markdown",
   "metadata": {},
   "source": [
    "First recall higher order function.\n",
    "### HOC is nothing but a function that takes function as argument and/or return function as its return value\n",
    "\n",
    "#### Map,reduce, filter are HOC"
   ]
  },
  {
   "cell_type": "markdown",
   "metadata": {},
   "source": [
    "```\n",
    "    map(func,*iterables)\n",
    "```"
   ]
  },
  {
   "cell_type": "code",
   "execution_count": 9,
   "metadata": {},
   "outputs": [
    {
     "data": {
      "text/plain": [
       "(4, 9, 16)"
      ]
     },
     "execution_count": 9,
     "metadata": {},
     "output_type": "execute_result"
    }
   ],
   "source": [
    "l = [2,3,4]\n",
    "\n",
    "tuple(map(lambda x:x**2 , l))\n"
   ]
  },
  {
   "cell_type": "markdown",
   "metadata": {},
   "source": [
    "# Filter\n",
    "```\n",
    "    filter(func,iterables)\n",
    "```\n",
    "\n",
    "Filter out the element, ie, specify the function that retains or throwout the element from the iterables\n"
   ]
  },
  {
   "cell_type": "code",
   "execution_count": 11,
   "metadata": {},
   "outputs": [
    {
     "data": {
      "text/plain": [
       "[1, 3, 5]"
      ]
     },
     "execution_count": 11,
     "metadata": {},
     "output_type": "execute_result"
    }
   ],
   "source": [
    "# eg: Throw all even number\n",
    "\n",
    "list(filter(lambda x:  x % 2, [1,2,3,4,5]))"
   ]
  },
  {
   "cell_type": "code",
   "execution_count": 12,
   "metadata": {},
   "outputs": [
    {
     "data": {
      "text/plain": [
       "[1, 2, 3, 4]"
      ]
     },
     "execution_count": 12,
     "metadata": {},
     "output_type": "execute_result"
    }
   ],
   "source": [
    "# eg: filter all Falsy values\n",
    "\n",
    "list(filter(None,[0,1,2,3,4,None,[],{}]))"
   ]
  },
  {
   "cell_type": "markdown",
   "metadata": {},
   "source": [
    "# Zip\n",
    "\n",
    "It is mostly used in list comprehension too.\n",
    "```\n",
    "    zip(*iterables)\n",
    "```\n",
    "\n",
    "zip is not HOF.\n",
    "if one of the iterable is exhusted then the zip is stopped."
   ]
  },
  {
   "cell_type": "code",
   "execution_count": 3,
   "metadata": {},
   "outputs": [
    {
     "data": {
      "text/plain": [
       "[(1, 2), (3, 4), (5, 6)]"
      ]
     },
     "execution_count": 3,
     "metadata": {},
     "output_type": "execute_result"
    }
   ],
   "source": [
    "l = [1,3,5,7]\n",
    "m = [2,4,6,]\n",
    "list(zip(l,m))"
   ]
  },
  {
   "cell_type": "code",
   "execution_count": 4,
   "metadata": {},
   "outputs": [
    {
     "data": {
      "text/plain": [
       "[(0, 'A'),\n",
       " (1, 'r'),\n",
       " (2, 'u'),\n",
       " (3, 'n'),\n",
       " (4, ' '),\n",
       " (5, 'P'),\n",
       " (6, 'r'),\n",
       " (7, 'a'),\n",
       " (8, 'j'),\n",
       " (9, 'a'),\n",
       " (10, 'p'),\n",
       " (11, 'a'),\n",
       " (12, 't'),\n",
       " (13, 'i')]"
      ]
     },
     "execution_count": 4,
     "metadata": {},
     "output_type": "execute_result"
    }
   ],
   "source": [
    "# if you want index of string\n",
    "\n",
    "l1 = range(100)\n",
    "l2 = 'Arun Prajapati'\n",
    "\n",
    "list(zip(l1,l2))"
   ]
  }
 ],
 "metadata": {
  "interpreter": {
   "hash": "ac59ebe37160ed0dfa835113d9b8498d9f09ceb179beaac4002f036b9467c963"
  },
  "kernelspec": {
   "display_name": "Python 3.9.5 64-bit",
   "language": "python",
   "name": "python3"
  },
  "language_info": {
   "codemirror_mode": {
    "name": "ipython",
    "version": 3
   },
   "file_extension": ".py",
   "mimetype": "text/x-python",
   "name": "python",
   "nbconvert_exporter": "python",
   "pygments_lexer": "ipython3",
   "version": "3.9.5"
  },
  "orig_nbformat": 4
 },
 "nbformat": 4,
 "nbformat_minor": 2
}
